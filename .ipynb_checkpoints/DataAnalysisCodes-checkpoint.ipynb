{
 "cells": [
  {
   "cell_type": "markdown",
   "id": "a7c30885",
   "metadata": {},
   "source": [
    "# Stack Overflow Developer Survey 2017"
   ]
  },
  {
   "cell_type": "markdown",
   "id": "a1f6f030",
   "metadata": {},
   "source": [
    "Following the CRISP-DM process, I analyze the Stack Overflow Developer Survey from 2017.\n",
    "\n",
    "## Business Understanding\n",
    "The first step in the process is to determine the business understanding. In other words, what is the problem or question at hand. I'm most curious about developers with unconventional backgrounds and training, since I myself am coming to the field from a background in humanities and social sciences. So with that, the questions I hope to answer with this data are:\n",
    "\n",
    "1. What are the differences in salary and satisfaction between developers with interdisciplinary academic backgrounds?\n",
    "2. What are the differences in salary and satisfaction between developers at different education levels?  \n",
    "3. What are the differences in salary and satisfaction between developers that say they don't understand computers well?\n",
    "\n",
    "## Data Understanding\n",
    "Next, I will need to explore the dataset from the survey and gather the data I need to answer these questions. Therefore, I will need data on developer's undergraduate majors, job and career satisfaction, formal education, importance of education, education types, self-taught methods, and salary. \n",
    "\n"
   ]
  },
  {
   "cell_type": "code",
   "execution_count": 10,
   "id": "4723fe14",
   "metadata": {},
   "outputs": [
    {
     "name": "stdout",
     "output_type": "stream",
     "text": [
      "<class 'pandas.core.frame.DataFrame'>\n",
      "RangeIndex: 51392 entries, 0 to 51391\n",
      "Columns: 154 entries, Respondent to ExpectedSalary\n",
      "dtypes: float64(6), int64(1), object(147)\n",
      "memory usage: 60.4+ MB\n"
     ]
    }
   ],
   "source": [
    "import numpy as np\n",
    "import pandas as pd\n",
    "import seaborn as sb\n",
    "from collections import defaultdict\n",
    "import matplotlib.pyplot as plt\n",
    "%matplotlib inline\n",
    "\n",
    "df = pd.read_csv('C:/Users/MicaKnox/Desktop/Udacity/DS_Process/survey-results-public.csv')\n",
    "df.info()"
   ]
  },
  {
   "cell_type": "code",
   "execution_count": 11,
   "id": "b5300f0f",
   "metadata": {},
   "outputs": [
    {
     "data": {
      "text/html": [
       "<div>\n",
       "<style scoped>\n",
       "    .dataframe tbody tr th:only-of-type {\n",
       "        vertical-align: middle;\n",
       "    }\n",
       "\n",
       "    .dataframe tbody tr th {\n",
       "        vertical-align: top;\n",
       "    }\n",
       "\n",
       "    .dataframe thead th {\n",
       "        text-align: right;\n",
       "    }\n",
       "</style>\n",
       "<table border=\"1\" class=\"dataframe\">\n",
       "  <thead>\n",
       "    <tr style=\"text-align: right;\">\n",
       "      <th></th>\n",
       "      <th>Respondent</th>\n",
       "      <th>Professional</th>\n",
       "      <th>ProgramHobby</th>\n",
       "      <th>Country</th>\n",
       "      <th>University</th>\n",
       "      <th>EmploymentStatus</th>\n",
       "      <th>FormalEducation</th>\n",
       "      <th>MajorUndergrad</th>\n",
       "      <th>HomeRemote</th>\n",
       "      <th>CompanySize</th>\n",
       "      <th>...</th>\n",
       "      <th>StackOverflowMakeMoney</th>\n",
       "      <th>Gender</th>\n",
       "      <th>HighestEducationParents</th>\n",
       "      <th>Race</th>\n",
       "      <th>SurveyLong</th>\n",
       "      <th>QuestionsInteresting</th>\n",
       "      <th>QuestionsConfusing</th>\n",
       "      <th>InterestedAnswers</th>\n",
       "      <th>Salary</th>\n",
       "      <th>ExpectedSalary</th>\n",
       "    </tr>\n",
       "  </thead>\n",
       "  <tbody>\n",
       "    <tr>\n",
       "      <th>0</th>\n",
       "      <td>1</td>\n",
       "      <td>Student</td>\n",
       "      <td>Yes, both</td>\n",
       "      <td>United States</td>\n",
       "      <td>No</td>\n",
       "      <td>Not employed, and not looking for work</td>\n",
       "      <td>Secondary school</td>\n",
       "      <td>NaN</td>\n",
       "      <td>NaN</td>\n",
       "      <td>NaN</td>\n",
       "      <td>...</td>\n",
       "      <td>Strongly disagree</td>\n",
       "      <td>Male</td>\n",
       "      <td>High school</td>\n",
       "      <td>White or of European descent</td>\n",
       "      <td>Strongly disagree</td>\n",
       "      <td>Strongly agree</td>\n",
       "      <td>Disagree</td>\n",
       "      <td>Strongly agree</td>\n",
       "      <td>NaN</td>\n",
       "      <td>NaN</td>\n",
       "    </tr>\n",
       "    <tr>\n",
       "      <th>1</th>\n",
       "      <td>2</td>\n",
       "      <td>Student</td>\n",
       "      <td>Yes, both</td>\n",
       "      <td>United Kingdom</td>\n",
       "      <td>Yes, full-time</td>\n",
       "      <td>Employed part-time</td>\n",
       "      <td>Some college/university study without earning ...</td>\n",
       "      <td>Computer science or software engineering</td>\n",
       "      <td>More than half, but not all, the time</td>\n",
       "      <td>20 to 99 employees</td>\n",
       "      <td>...</td>\n",
       "      <td>Strongly disagree</td>\n",
       "      <td>Male</td>\n",
       "      <td>A master's degree</td>\n",
       "      <td>White or of European descent</td>\n",
       "      <td>Somewhat agree</td>\n",
       "      <td>Somewhat agree</td>\n",
       "      <td>Disagree</td>\n",
       "      <td>Strongly agree</td>\n",
       "      <td>NaN</td>\n",
       "      <td>37500.0</td>\n",
       "    </tr>\n",
       "    <tr>\n",
       "      <th>2</th>\n",
       "      <td>3</td>\n",
       "      <td>Professional developer</td>\n",
       "      <td>Yes, both</td>\n",
       "      <td>United Kingdom</td>\n",
       "      <td>No</td>\n",
       "      <td>Employed full-time</td>\n",
       "      <td>Bachelor's degree</td>\n",
       "      <td>Computer science or software engineering</td>\n",
       "      <td>Less than half the time, but at least one day ...</td>\n",
       "      <td>10,000 or more employees</td>\n",
       "      <td>...</td>\n",
       "      <td>Disagree</td>\n",
       "      <td>Male</td>\n",
       "      <td>A professional degree</td>\n",
       "      <td>White or of European descent</td>\n",
       "      <td>Somewhat agree</td>\n",
       "      <td>Agree</td>\n",
       "      <td>Disagree</td>\n",
       "      <td>Agree</td>\n",
       "      <td>113750.0</td>\n",
       "      <td>NaN</td>\n",
       "    </tr>\n",
       "    <tr>\n",
       "      <th>3</th>\n",
       "      <td>4</td>\n",
       "      <td>Professional non-developer who sometimes write...</td>\n",
       "      <td>Yes, both</td>\n",
       "      <td>United States</td>\n",
       "      <td>No</td>\n",
       "      <td>Employed full-time</td>\n",
       "      <td>Doctoral degree</td>\n",
       "      <td>A non-computer-focused engineering discipline</td>\n",
       "      <td>Less than half the time, but at least one day ...</td>\n",
       "      <td>10,000 or more employees</td>\n",
       "      <td>...</td>\n",
       "      <td>Disagree</td>\n",
       "      <td>Male</td>\n",
       "      <td>A doctoral degree</td>\n",
       "      <td>White or of European descent</td>\n",
       "      <td>Agree</td>\n",
       "      <td>Agree</td>\n",
       "      <td>Somewhat agree</td>\n",
       "      <td>Strongly agree</td>\n",
       "      <td>NaN</td>\n",
       "      <td>NaN</td>\n",
       "    </tr>\n",
       "    <tr>\n",
       "      <th>4</th>\n",
       "      <td>5</td>\n",
       "      <td>Professional developer</td>\n",
       "      <td>Yes, I program as a hobby</td>\n",
       "      <td>Switzerland</td>\n",
       "      <td>No</td>\n",
       "      <td>Employed full-time</td>\n",
       "      <td>Master's degree</td>\n",
       "      <td>Computer science or software engineering</td>\n",
       "      <td>Never</td>\n",
       "      <td>10 to 19 employees</td>\n",
       "      <td>...</td>\n",
       "      <td>NaN</td>\n",
       "      <td>NaN</td>\n",
       "      <td>NaN</td>\n",
       "      <td>NaN</td>\n",
       "      <td>NaN</td>\n",
       "      <td>NaN</td>\n",
       "      <td>NaN</td>\n",
       "      <td>NaN</td>\n",
       "      <td>NaN</td>\n",
       "      <td>NaN</td>\n",
       "    </tr>\n",
       "    <tr>\n",
       "      <th>5</th>\n",
       "      <td>6</td>\n",
       "      <td>Student</td>\n",
       "      <td>Yes, both</td>\n",
       "      <td>New Zealand</td>\n",
       "      <td>Yes, full-time</td>\n",
       "      <td>Not employed, and not looking for work</td>\n",
       "      <td>Secondary school</td>\n",
       "      <td>NaN</td>\n",
       "      <td>NaN</td>\n",
       "      <td>NaN</td>\n",
       "      <td>...</td>\n",
       "      <td>Disagree</td>\n",
       "      <td>NaN</td>\n",
       "      <td>A bachelor's degree</td>\n",
       "      <td>White or of European descent</td>\n",
       "      <td>Disagree</td>\n",
       "      <td>Agree</td>\n",
       "      <td>Disagree</td>\n",
       "      <td>Agree</td>\n",
       "      <td>NaN</td>\n",
       "      <td>NaN</td>\n",
       "    </tr>\n",
       "    <tr>\n",
       "      <th>6</th>\n",
       "      <td>7</td>\n",
       "      <td>Professional non-developer who sometimes write...</td>\n",
       "      <td>Yes, both</td>\n",
       "      <td>United States</td>\n",
       "      <td>No</td>\n",
       "      <td>Employed full-time</td>\n",
       "      <td>Master's degree</td>\n",
       "      <td>A non-computer-focused engineering discipline</td>\n",
       "      <td>Less than half the time, but at least one day ...</td>\n",
       "      <td>20 to 99 employees</td>\n",
       "      <td>...</td>\n",
       "      <td>Disagree</td>\n",
       "      <td>Male</td>\n",
       "      <td>A doctoral degree</td>\n",
       "      <td>White or of European descent</td>\n",
       "      <td>Disagree</td>\n",
       "      <td>Agree</td>\n",
       "      <td>Disagree</td>\n",
       "      <td>Agree</td>\n",
       "      <td>NaN</td>\n",
       "      <td>NaN</td>\n",
       "    </tr>\n",
       "    <tr>\n",
       "      <th>7</th>\n",
       "      <td>8</td>\n",
       "      <td>Professional developer</td>\n",
       "      <td>Yes, both</td>\n",
       "      <td>Poland</td>\n",
       "      <td>No</td>\n",
       "      <td>Employed full-time</td>\n",
       "      <td>Master's degree</td>\n",
       "      <td>Computer science or software engineering</td>\n",
       "      <td>All or almost all the time (I'm full-time remote)</td>\n",
       "      <td>Fewer than 10 employees</td>\n",
       "      <td>...</td>\n",
       "      <td>Somewhat agree</td>\n",
       "      <td>Male</td>\n",
       "      <td>A master's degree</td>\n",
       "      <td>White or of European descent</td>\n",
       "      <td>Agree</td>\n",
       "      <td>Somewhat agree</td>\n",
       "      <td>Disagree</td>\n",
       "      <td>Agree</td>\n",
       "      <td>NaN</td>\n",
       "      <td>NaN</td>\n",
       "    </tr>\n",
       "    <tr>\n",
       "      <th>8</th>\n",
       "      <td>9</td>\n",
       "      <td>Professional developer</td>\n",
       "      <td>Yes, I program as a hobby</td>\n",
       "      <td>Colombia</td>\n",
       "      <td>Yes, part-time</td>\n",
       "      <td>Employed full-time</td>\n",
       "      <td>Bachelor's degree</td>\n",
       "      <td>Computer science or software engineering</td>\n",
       "      <td>Less than half the time, but at least one day ...</td>\n",
       "      <td>5,000 to 9,999 employees</td>\n",
       "      <td>...</td>\n",
       "      <td>Strongly disagree</td>\n",
       "      <td>Male</td>\n",
       "      <td>A bachelor's degree</td>\n",
       "      <td>Hispanic or Latino/Latina</td>\n",
       "      <td>Somewhat agree</td>\n",
       "      <td>Strongly agree</td>\n",
       "      <td>Disagree</td>\n",
       "      <td>Strongly agree</td>\n",
       "      <td>NaN</td>\n",
       "      <td>NaN</td>\n",
       "    </tr>\n",
       "    <tr>\n",
       "      <th>9</th>\n",
       "      <td>10</td>\n",
       "      <td>Professional developer</td>\n",
       "      <td>Yes, I program as a hobby</td>\n",
       "      <td>France</td>\n",
       "      <td>Yes, full-time</td>\n",
       "      <td>Independent contractor, freelancer, or self-em...</td>\n",
       "      <td>Master's degree</td>\n",
       "      <td>Computer science or software engineering</td>\n",
       "      <td>It's complicated</td>\n",
       "      <td>NaN</td>\n",
       "      <td>...</td>\n",
       "      <td>Disagree</td>\n",
       "      <td>Male</td>\n",
       "      <td>A doctoral degree</td>\n",
       "      <td>White or of European descent</td>\n",
       "      <td>Somewhat agree</td>\n",
       "      <td>Agree</td>\n",
       "      <td>Disagree</td>\n",
       "      <td>Agree</td>\n",
       "      <td>NaN</td>\n",
       "      <td>NaN</td>\n",
       "    </tr>\n",
       "    <tr>\n",
       "      <th>10</th>\n",
       "      <td>11</td>\n",
       "      <td>Professional non-developer who sometimes write...</td>\n",
       "      <td>Yes, I program as a hobby</td>\n",
       "      <td>United States</td>\n",
       "      <td>No</td>\n",
       "      <td>Employed full-time</td>\n",
       "      <td>Bachelor's degree</td>\n",
       "      <td>A social science</td>\n",
       "      <td>All or almost all the time (I'm full-time remote)</td>\n",
       "      <td>100 to 499 employees</td>\n",
       "      <td>...</td>\n",
       "      <td>Strongly disagree</td>\n",
       "      <td>Female</td>\n",
       "      <td>Some college/university study, no bachelor's d...</td>\n",
       "      <td>White or of European descent</td>\n",
       "      <td>Strongly disagree</td>\n",
       "      <td>Agree</td>\n",
       "      <td>Strongly disagree</td>\n",
       "      <td>Strongly agree</td>\n",
       "      <td>NaN</td>\n",
       "      <td>NaN</td>\n",
       "    </tr>\n",
       "    <tr>\n",
       "      <th>11</th>\n",
       "      <td>12</td>\n",
       "      <td>Professional developer</td>\n",
       "      <td>No</td>\n",
       "      <td>Canada</td>\n",
       "      <td>No</td>\n",
       "      <td>Employed full-time</td>\n",
       "      <td>Bachelor's degree</td>\n",
       "      <td>Computer science or software engineering</td>\n",
       "      <td>A few days each month</td>\n",
       "      <td>100 to 499 employees</td>\n",
       "      <td>...</td>\n",
       "      <td>NaN</td>\n",
       "      <td>NaN</td>\n",
       "      <td>NaN</td>\n",
       "      <td>NaN</td>\n",
       "      <td>NaN</td>\n",
       "      <td>NaN</td>\n",
       "      <td>NaN</td>\n",
       "      <td>NaN</td>\n",
       "      <td>NaN</td>\n",
       "      <td>NaN</td>\n",
       "    </tr>\n",
       "    <tr>\n",
       "      <th>12</th>\n",
       "      <td>13</td>\n",
       "      <td>Used to be a professional developer</td>\n",
       "      <td>Yes, I program as a hobby</td>\n",
       "      <td>United Kingdom</td>\n",
       "      <td>No</td>\n",
       "      <td>Not employed, but looking for work</td>\n",
       "      <td>Bachelor's degree</td>\n",
       "      <td>Mathematics or statistics</td>\n",
       "      <td>NaN</td>\n",
       "      <td>NaN</td>\n",
       "      <td>...</td>\n",
       "      <td>Strongly disagree</td>\n",
       "      <td>Male</td>\n",
       "      <td>A bachelor's degree</td>\n",
       "      <td>White or of European descent</td>\n",
       "      <td>Disagree</td>\n",
       "      <td>Somewhat agree</td>\n",
       "      <td>Disagree</td>\n",
       "      <td>Agree</td>\n",
       "      <td>NaN</td>\n",
       "      <td>NaN</td>\n",
       "    </tr>\n",
       "    <tr>\n",
       "      <th>13</th>\n",
       "      <td>14</td>\n",
       "      <td>Professional developer</td>\n",
       "      <td>Yes, both</td>\n",
       "      <td>Germany</td>\n",
       "      <td>No</td>\n",
       "      <td>Employed full-time</td>\n",
       "      <td>Some college/university study without earning ...</td>\n",
       "      <td>Computer science or software engineering</td>\n",
       "      <td>Less than half the time, but at least one day ...</td>\n",
       "      <td>Fewer than 10 employees</td>\n",
       "      <td>...</td>\n",
       "      <td>Disagree</td>\n",
       "      <td>Female</td>\n",
       "      <td>A master's degree</td>\n",
       "      <td>Hispanic or Latino/Latina</td>\n",
       "      <td>Somewhat agree</td>\n",
       "      <td>Agree</td>\n",
       "      <td>Disagree</td>\n",
       "      <td>Strongly agree</td>\n",
       "      <td>NaN</td>\n",
       "      <td>NaN</td>\n",
       "    </tr>\n",
       "    <tr>\n",
       "      <th>14</th>\n",
       "      <td>15</td>\n",
       "      <td>Professional developer</td>\n",
       "      <td>Yes, I program as a hobby</td>\n",
       "      <td>United Kingdom</td>\n",
       "      <td>No</td>\n",
       "      <td>Employed full-time</td>\n",
       "      <td>Professional degree</td>\n",
       "      <td>Computer engineering or electrical/electronics...</td>\n",
       "      <td>All or almost all the time (I'm full-time remote)</td>\n",
       "      <td>5,000 to 9,999 employees</td>\n",
       "      <td>...</td>\n",
       "      <td>Disagree</td>\n",
       "      <td>Male</td>\n",
       "      <td>High school</td>\n",
       "      <td>White or of European descent</td>\n",
       "      <td>Somewhat agree</td>\n",
       "      <td>Agree</td>\n",
       "      <td>Disagree</td>\n",
       "      <td>Agree</td>\n",
       "      <td>100000.0</td>\n",
       "      <td>NaN</td>\n",
       "    </tr>\n",
       "    <tr>\n",
       "      <th>15</th>\n",
       "      <td>16</td>\n",
       "      <td>Professional developer</td>\n",
       "      <td>Yes, I program as a hobby</td>\n",
       "      <td>United States</td>\n",
       "      <td>Yes, part-time</td>\n",
       "      <td>Independent contractor, freelancer, or self-em...</td>\n",
       "      <td>Primary/elementary school</td>\n",
       "      <td>NaN</td>\n",
       "      <td>All or almost all the time (I'm full-time remote)</td>\n",
       "      <td>NaN</td>\n",
       "      <td>...</td>\n",
       "      <td>Disagree</td>\n",
       "      <td>Male</td>\n",
       "      <td>A doctoral degree</td>\n",
       "      <td>White or of European descent</td>\n",
       "      <td>Disagree</td>\n",
       "      <td>Somewhat agree</td>\n",
       "      <td>Strongly disagree</td>\n",
       "      <td>Agree</td>\n",
       "      <td>NaN</td>\n",
       "      <td>NaN</td>\n",
       "    </tr>\n",
       "    <tr>\n",
       "      <th>16</th>\n",
       "      <td>17</td>\n",
       "      <td>Professional developer</td>\n",
       "      <td>Yes, both</td>\n",
       "      <td>United Kingdom</td>\n",
       "      <td>No</td>\n",
       "      <td>Not employed, and not looking for work</td>\n",
       "      <td>Secondary school</td>\n",
       "      <td>NaN</td>\n",
       "      <td>NaN</td>\n",
       "      <td>NaN</td>\n",
       "      <td>...</td>\n",
       "      <td>Strongly disagree</td>\n",
       "      <td>Male</td>\n",
       "      <td>High school</td>\n",
       "      <td>White or of European descent</td>\n",
       "      <td>Disagree</td>\n",
       "      <td>Agree</td>\n",
       "      <td>Strongly disagree</td>\n",
       "      <td>Strongly agree</td>\n",
       "      <td>NaN</td>\n",
       "      <td>NaN</td>\n",
       "    </tr>\n",
       "    <tr>\n",
       "      <th>17</th>\n",
       "      <td>18</td>\n",
       "      <td>Professional developer</td>\n",
       "      <td>Yes, both</td>\n",
       "      <td>United States</td>\n",
       "      <td>Yes, part-time</td>\n",
       "      <td>Employed full-time</td>\n",
       "      <td>Bachelor's degree</td>\n",
       "      <td>Computer science or software engineering</td>\n",
       "      <td>All or almost all the time (I'm full-time remote)</td>\n",
       "      <td>1,000 to 4,999 employees</td>\n",
       "      <td>...</td>\n",
       "      <td>Disagree</td>\n",
       "      <td>Male</td>\n",
       "      <td>A master's degree</td>\n",
       "      <td>Native American, Pacific Islander, or Indigeno...</td>\n",
       "      <td>Disagree</td>\n",
       "      <td>Agree</td>\n",
       "      <td>Disagree</td>\n",
       "      <td>Agree</td>\n",
       "      <td>130000.0</td>\n",
       "      <td>NaN</td>\n",
       "    </tr>\n",
       "    <tr>\n",
       "      <th>18</th>\n",
       "      <td>19</td>\n",
       "      <td>Professional developer</td>\n",
       "      <td>Yes, I program as a hobby</td>\n",
       "      <td>United States</td>\n",
       "      <td>No</td>\n",
       "      <td>Employed full-time</td>\n",
       "      <td>Bachelor's degree</td>\n",
       "      <td>Computer science or software engineering</td>\n",
       "      <td>A few days each month</td>\n",
       "      <td>10,000 or more employees</td>\n",
       "      <td>...</td>\n",
       "      <td>NaN</td>\n",
       "      <td>NaN</td>\n",
       "      <td>NaN</td>\n",
       "      <td>NaN</td>\n",
       "      <td>NaN</td>\n",
       "      <td>NaN</td>\n",
       "      <td>NaN</td>\n",
       "      <td>NaN</td>\n",
       "      <td>82500.0</td>\n",
       "      <td>NaN</td>\n",
       "    </tr>\n",
       "    <tr>\n",
       "      <th>19</th>\n",
       "      <td>20</td>\n",
       "      <td>Professional developer</td>\n",
       "      <td>Yes, I program as a hobby</td>\n",
       "      <td>Greece</td>\n",
       "      <td>No</td>\n",
       "      <td>Employed full-time</td>\n",
       "      <td>Doctoral degree</td>\n",
       "      <td>A natural science</td>\n",
       "      <td>Less than half the time, but at least one day ...</td>\n",
       "      <td>Fewer than 10 employees</td>\n",
       "      <td>...</td>\n",
       "      <td>Strongly disagree</td>\n",
       "      <td>Male</td>\n",
       "      <td>A master's degree</td>\n",
       "      <td>I prefer not to say</td>\n",
       "      <td>Agree</td>\n",
       "      <td>Somewhat agree</td>\n",
       "      <td>Disagree</td>\n",
       "      <td>Somewhat agree</td>\n",
       "      <td>NaN</td>\n",
       "      <td>NaN</td>\n",
       "    </tr>\n",
       "  </tbody>\n",
       "</table>\n",
       "<p>20 rows × 154 columns</p>\n",
       "</div>"
      ],
      "text/plain": [
       "    Respondent                                       Professional  \\\n",
       "0            1                                            Student   \n",
       "1            2                                            Student   \n",
       "2            3                             Professional developer   \n",
       "3            4  Professional non-developer who sometimes write...   \n",
       "4            5                             Professional developer   \n",
       "5            6                                            Student   \n",
       "6            7  Professional non-developer who sometimes write...   \n",
       "7            8                             Professional developer   \n",
       "8            9                             Professional developer   \n",
       "9           10                             Professional developer   \n",
       "10          11  Professional non-developer who sometimes write...   \n",
       "11          12                             Professional developer   \n",
       "12          13                Used to be a professional developer   \n",
       "13          14                             Professional developer   \n",
       "14          15                             Professional developer   \n",
       "15          16                             Professional developer   \n",
       "16          17                             Professional developer   \n",
       "17          18                             Professional developer   \n",
       "18          19                             Professional developer   \n",
       "19          20                             Professional developer   \n",
       "\n",
       "                 ProgramHobby         Country      University  \\\n",
       "0                   Yes, both   United States              No   \n",
       "1                   Yes, both  United Kingdom  Yes, full-time   \n",
       "2                   Yes, both  United Kingdom              No   \n",
       "3                   Yes, both   United States              No   \n",
       "4   Yes, I program as a hobby     Switzerland              No   \n",
       "5                   Yes, both     New Zealand  Yes, full-time   \n",
       "6                   Yes, both   United States              No   \n",
       "7                   Yes, both          Poland              No   \n",
       "8   Yes, I program as a hobby        Colombia  Yes, part-time   \n",
       "9   Yes, I program as a hobby          France  Yes, full-time   \n",
       "10  Yes, I program as a hobby   United States              No   \n",
       "11                         No          Canada              No   \n",
       "12  Yes, I program as a hobby  United Kingdom              No   \n",
       "13                  Yes, both         Germany              No   \n",
       "14  Yes, I program as a hobby  United Kingdom              No   \n",
       "15  Yes, I program as a hobby   United States  Yes, part-time   \n",
       "16                  Yes, both  United Kingdom              No   \n",
       "17                  Yes, both   United States  Yes, part-time   \n",
       "18  Yes, I program as a hobby   United States              No   \n",
       "19  Yes, I program as a hobby          Greece              No   \n",
       "\n",
       "                                     EmploymentStatus  \\\n",
       "0              Not employed, and not looking for work   \n",
       "1                                  Employed part-time   \n",
       "2                                  Employed full-time   \n",
       "3                                  Employed full-time   \n",
       "4                                  Employed full-time   \n",
       "5              Not employed, and not looking for work   \n",
       "6                                  Employed full-time   \n",
       "7                                  Employed full-time   \n",
       "8                                  Employed full-time   \n",
       "9   Independent contractor, freelancer, or self-em...   \n",
       "10                                 Employed full-time   \n",
       "11                                 Employed full-time   \n",
       "12                 Not employed, but looking for work   \n",
       "13                                 Employed full-time   \n",
       "14                                 Employed full-time   \n",
       "15  Independent contractor, freelancer, or self-em...   \n",
       "16             Not employed, and not looking for work   \n",
       "17                                 Employed full-time   \n",
       "18                                 Employed full-time   \n",
       "19                                 Employed full-time   \n",
       "\n",
       "                                      FormalEducation  \\\n",
       "0                                    Secondary school   \n",
       "1   Some college/university study without earning ...   \n",
       "2                                   Bachelor's degree   \n",
       "3                                     Doctoral degree   \n",
       "4                                     Master's degree   \n",
       "5                                    Secondary school   \n",
       "6                                     Master's degree   \n",
       "7                                     Master's degree   \n",
       "8                                   Bachelor's degree   \n",
       "9                                     Master's degree   \n",
       "10                                  Bachelor's degree   \n",
       "11                                  Bachelor's degree   \n",
       "12                                  Bachelor's degree   \n",
       "13  Some college/university study without earning ...   \n",
       "14                                Professional degree   \n",
       "15                          Primary/elementary school   \n",
       "16                                   Secondary school   \n",
       "17                                  Bachelor's degree   \n",
       "18                                  Bachelor's degree   \n",
       "19                                    Doctoral degree   \n",
       "\n",
       "                                       MajorUndergrad  \\\n",
       "0                                                 NaN   \n",
       "1            Computer science or software engineering   \n",
       "2            Computer science or software engineering   \n",
       "3       A non-computer-focused engineering discipline   \n",
       "4            Computer science or software engineering   \n",
       "5                                                 NaN   \n",
       "6       A non-computer-focused engineering discipline   \n",
       "7            Computer science or software engineering   \n",
       "8            Computer science or software engineering   \n",
       "9            Computer science or software engineering   \n",
       "10                                   A social science   \n",
       "11           Computer science or software engineering   \n",
       "12                          Mathematics or statistics   \n",
       "13           Computer science or software engineering   \n",
       "14  Computer engineering or electrical/electronics...   \n",
       "15                                                NaN   \n",
       "16                                                NaN   \n",
       "17           Computer science or software engineering   \n",
       "18           Computer science or software engineering   \n",
       "19                                  A natural science   \n",
       "\n",
       "                                           HomeRemote  \\\n",
       "0                                                 NaN   \n",
       "1               More than half, but not all, the time   \n",
       "2   Less than half the time, but at least one day ...   \n",
       "3   Less than half the time, but at least one day ...   \n",
       "4                                               Never   \n",
       "5                                                 NaN   \n",
       "6   Less than half the time, but at least one day ...   \n",
       "7   All or almost all the time (I'm full-time remote)   \n",
       "8   Less than half the time, but at least one day ...   \n",
       "9                                    It's complicated   \n",
       "10  All or almost all the time (I'm full-time remote)   \n",
       "11                              A few days each month   \n",
       "12                                                NaN   \n",
       "13  Less than half the time, but at least one day ...   \n",
       "14  All or almost all the time (I'm full-time remote)   \n",
       "15  All or almost all the time (I'm full-time remote)   \n",
       "16                                                NaN   \n",
       "17  All or almost all the time (I'm full-time remote)   \n",
       "18                              A few days each month   \n",
       "19  Less than half the time, but at least one day ...   \n",
       "\n",
       "                 CompanySize  ... StackOverflowMakeMoney  Gender  \\\n",
       "0                        NaN  ...      Strongly disagree    Male   \n",
       "1         20 to 99 employees  ...      Strongly disagree    Male   \n",
       "2   10,000 or more employees  ...               Disagree    Male   \n",
       "3   10,000 or more employees  ...               Disagree    Male   \n",
       "4         10 to 19 employees  ...                    NaN     NaN   \n",
       "5                        NaN  ...               Disagree     NaN   \n",
       "6         20 to 99 employees  ...               Disagree    Male   \n",
       "7    Fewer than 10 employees  ...         Somewhat agree    Male   \n",
       "8   5,000 to 9,999 employees  ...      Strongly disagree    Male   \n",
       "9                        NaN  ...               Disagree    Male   \n",
       "10      100 to 499 employees  ...      Strongly disagree  Female   \n",
       "11      100 to 499 employees  ...                    NaN     NaN   \n",
       "12                       NaN  ...      Strongly disagree    Male   \n",
       "13   Fewer than 10 employees  ...               Disagree  Female   \n",
       "14  5,000 to 9,999 employees  ...               Disagree    Male   \n",
       "15                       NaN  ...               Disagree    Male   \n",
       "16                       NaN  ...      Strongly disagree    Male   \n",
       "17  1,000 to 4,999 employees  ...               Disagree    Male   \n",
       "18  10,000 or more employees  ...                    NaN     NaN   \n",
       "19   Fewer than 10 employees  ...      Strongly disagree    Male   \n",
       "\n",
       "                              HighestEducationParents  \\\n",
       "0                                         High school   \n",
       "1                                   A master's degree   \n",
       "2                               A professional degree   \n",
       "3                                   A doctoral degree   \n",
       "4                                                 NaN   \n",
       "5                                 A bachelor's degree   \n",
       "6                                   A doctoral degree   \n",
       "7                                   A master's degree   \n",
       "8                                 A bachelor's degree   \n",
       "9                                   A doctoral degree   \n",
       "10  Some college/university study, no bachelor's d...   \n",
       "11                                                NaN   \n",
       "12                                A bachelor's degree   \n",
       "13                                  A master's degree   \n",
       "14                                        High school   \n",
       "15                                  A doctoral degree   \n",
       "16                                        High school   \n",
       "17                                  A master's degree   \n",
       "18                                                NaN   \n",
       "19                                  A master's degree   \n",
       "\n",
       "                                                 Race         SurveyLong  \\\n",
       "0                        White or of European descent  Strongly disagree   \n",
       "1                        White or of European descent     Somewhat agree   \n",
       "2                        White or of European descent     Somewhat agree   \n",
       "3                        White or of European descent              Agree   \n",
       "4                                                 NaN                NaN   \n",
       "5                        White or of European descent           Disagree   \n",
       "6                        White or of European descent           Disagree   \n",
       "7                        White or of European descent              Agree   \n",
       "8                           Hispanic or Latino/Latina     Somewhat agree   \n",
       "9                        White or of European descent     Somewhat agree   \n",
       "10                       White or of European descent  Strongly disagree   \n",
       "11                                                NaN                NaN   \n",
       "12                       White or of European descent           Disagree   \n",
       "13                          Hispanic or Latino/Latina     Somewhat agree   \n",
       "14                       White or of European descent     Somewhat agree   \n",
       "15                       White or of European descent           Disagree   \n",
       "16                       White or of European descent           Disagree   \n",
       "17  Native American, Pacific Islander, or Indigeno...           Disagree   \n",
       "18                                                NaN                NaN   \n",
       "19                                I prefer not to say              Agree   \n",
       "\n",
       "   QuestionsInteresting QuestionsConfusing InterestedAnswers    Salary  \\\n",
       "0        Strongly agree           Disagree    Strongly agree       NaN   \n",
       "1        Somewhat agree           Disagree    Strongly agree       NaN   \n",
       "2                 Agree           Disagree             Agree  113750.0   \n",
       "3                 Agree     Somewhat agree    Strongly agree       NaN   \n",
       "4                   NaN                NaN               NaN       NaN   \n",
       "5                 Agree           Disagree             Agree       NaN   \n",
       "6                 Agree           Disagree             Agree       NaN   \n",
       "7        Somewhat agree           Disagree             Agree       NaN   \n",
       "8        Strongly agree           Disagree    Strongly agree       NaN   \n",
       "9                 Agree           Disagree             Agree       NaN   \n",
       "10                Agree  Strongly disagree    Strongly agree       NaN   \n",
       "11                  NaN                NaN               NaN       NaN   \n",
       "12       Somewhat agree           Disagree             Agree       NaN   \n",
       "13                Agree           Disagree    Strongly agree       NaN   \n",
       "14                Agree           Disagree             Agree  100000.0   \n",
       "15       Somewhat agree  Strongly disagree             Agree       NaN   \n",
       "16                Agree  Strongly disagree    Strongly agree       NaN   \n",
       "17                Agree           Disagree             Agree  130000.0   \n",
       "18                  NaN                NaN               NaN   82500.0   \n",
       "19       Somewhat agree           Disagree    Somewhat agree       NaN   \n",
       "\n",
       "    ExpectedSalary  \n",
       "0              NaN  \n",
       "1          37500.0  \n",
       "2              NaN  \n",
       "3              NaN  \n",
       "4              NaN  \n",
       "5              NaN  \n",
       "6              NaN  \n",
       "7              NaN  \n",
       "8              NaN  \n",
       "9              NaN  \n",
       "10             NaN  \n",
       "11             NaN  \n",
       "12             NaN  \n",
       "13             NaN  \n",
       "14             NaN  \n",
       "15             NaN  \n",
       "16             NaN  \n",
       "17             NaN  \n",
       "18             NaN  \n",
       "19             NaN  \n",
       "\n",
       "[20 rows x 154 columns]"
      ]
     },
     "execution_count": 11,
     "metadata": {},
     "output_type": "execute_result"
    }
   ],
   "source": [
    "df.head(20)"
   ]
  },
  {
   "cell_type": "code",
   "execution_count": 12,
   "id": "0992d72d",
   "metadata": {},
   "outputs": [
    {
     "data": {
      "text/html": [
       "<div>\n",
       "<style scoped>\n",
       "    .dataframe tbody tr th:only-of-type {\n",
       "        vertical-align: middle;\n",
       "    }\n",
       "\n",
       "    .dataframe tbody tr th {\n",
       "        vertical-align: top;\n",
       "    }\n",
       "\n",
       "    .dataframe thead th {\n",
       "        text-align: right;\n",
       "    }\n",
       "</style>\n",
       "<table border=\"1\" class=\"dataframe\">\n",
       "  <thead>\n",
       "    <tr style=\"text-align: right;\">\n",
       "      <th></th>\n",
       "      <th>Respondent</th>\n",
       "      <th>CareerSatisfaction</th>\n",
       "      <th>JobSatisfaction</th>\n",
       "      <th>HoursPerWeek</th>\n",
       "      <th>StackOverflowSatisfaction</th>\n",
       "      <th>Salary</th>\n",
       "      <th>ExpectedSalary</th>\n",
       "    </tr>\n",
       "  </thead>\n",
       "  <tbody>\n",
       "    <tr>\n",
       "      <th>count</th>\n",
       "      <td>51392.000000</td>\n",
       "      <td>42695.000000</td>\n",
       "      <td>40376.000000</td>\n",
       "      <td>20600.000000</td>\n",
       "      <td>36592.000000</td>\n",
       "      <td>12891.000000</td>\n",
       "      <td>2566.000000</td>\n",
       "    </tr>\n",
       "    <tr>\n",
       "      <th>mean</th>\n",
       "      <td>25696.500000</td>\n",
       "      <td>7.300574</td>\n",
       "      <td>6.957078</td>\n",
       "      <td>3.952282</td>\n",
       "      <td>8.429875</td>\n",
       "      <td>56298.480641</td>\n",
       "      <td>33142.220468</td>\n",
       "    </tr>\n",
       "    <tr>\n",
       "      <th>std</th>\n",
       "      <td>14835.736854</td>\n",
       "      <td>1.955444</td>\n",
       "      <td>2.167652</td>\n",
       "      <td>7.564722</td>\n",
       "      <td>1.390635</td>\n",
       "      <td>39880.905277</td>\n",
       "      <td>30162.988829</td>\n",
       "    </tr>\n",
       "    <tr>\n",
       "      <th>min</th>\n",
       "      <td>1.000000</td>\n",
       "      <td>0.000000</td>\n",
       "      <td>0.000000</td>\n",
       "      <td>0.000000</td>\n",
       "      <td>0.000000</td>\n",
       "      <td>0.000000</td>\n",
       "      <td>0.000000</td>\n",
       "    </tr>\n",
       "    <tr>\n",
       "      <th>25%</th>\n",
       "      <td>12848.750000</td>\n",
       "      <td>6.000000</td>\n",
       "      <td>6.000000</td>\n",
       "      <td>1.000000</td>\n",
       "      <td>8.000000</td>\n",
       "      <td>26440.371839</td>\n",
       "      <td>4490.492484</td>\n",
       "    </tr>\n",
       "    <tr>\n",
       "      <th>50%</th>\n",
       "      <td>25696.500000</td>\n",
       "      <td>8.000000</td>\n",
       "      <td>7.000000</td>\n",
       "      <td>1.000000</td>\n",
       "      <td>9.000000</td>\n",
       "      <td>50000.000000</td>\n",
       "      <td>29364.263691</td>\n",
       "    </tr>\n",
       "    <tr>\n",
       "      <th>75%</th>\n",
       "      <td>38544.250000</td>\n",
       "      <td>9.000000</td>\n",
       "      <td>8.000000</td>\n",
       "      <td>4.000000</td>\n",
       "      <td>10.000000</td>\n",
       "      <td>80000.000000</td>\n",
       "      <td>50403.225806</td>\n",
       "    </tr>\n",
       "    <tr>\n",
       "      <th>max</th>\n",
       "      <td>51392.000000</td>\n",
       "      <td>10.000000</td>\n",
       "      <td>10.000000</td>\n",
       "      <td>40.000000</td>\n",
       "      <td>10.000000</td>\n",
       "      <td>197000.000000</td>\n",
       "      <td>187500.000000</td>\n",
       "    </tr>\n",
       "  </tbody>\n",
       "</table>\n",
       "</div>"
      ],
      "text/plain": [
       "         Respondent  CareerSatisfaction  JobSatisfaction  HoursPerWeek  \\\n",
       "count  51392.000000        42695.000000     40376.000000  20600.000000   \n",
       "mean   25696.500000            7.300574         6.957078      3.952282   \n",
       "std    14835.736854            1.955444         2.167652      7.564722   \n",
       "min        1.000000            0.000000         0.000000      0.000000   \n",
       "25%    12848.750000            6.000000         6.000000      1.000000   \n",
       "50%    25696.500000            8.000000         7.000000      1.000000   \n",
       "75%    38544.250000            9.000000         8.000000      4.000000   \n",
       "max    51392.000000           10.000000        10.000000     40.000000   \n",
       "\n",
       "       StackOverflowSatisfaction         Salary  ExpectedSalary  \n",
       "count               36592.000000   12891.000000     2566.000000  \n",
       "mean                    8.429875   56298.480641    33142.220468  \n",
       "std                     1.390635   39880.905277    30162.988829  \n",
       "min                     0.000000       0.000000        0.000000  \n",
       "25%                     8.000000   26440.371839     4490.492484  \n",
       "50%                     9.000000   50000.000000    29364.263691  \n",
       "75%                    10.000000   80000.000000    50403.225806  \n",
       "max                    10.000000  197000.000000   187500.000000  "
      ]
     },
     "execution_count": 12,
     "metadata": {},
     "output_type": "execute_result"
    }
   ],
   "source": [
    "df.describe()"
   ]
  },
  {
   "cell_type": "markdown",
   "id": "762bb1c7",
   "metadata": {},
   "source": [
    "I can see from the output above that there is a lot of data to work with: over 150 different variables I could examine from over 51,000 respondents. However, when I used describe to examine the data, I noticed that not all of the variables have the same number of observations. I need to look at the variables I am interested in more specifically to see how to handle missing values. I will calculate the percentage of missing values for each one."
   ]
  },
  {
   "cell_type": "code",
   "execution_count": 13,
   "id": "22455f28",
   "metadata": {},
   "outputs": [
    {
     "data": {
      "text/html": [
       "<div>\n",
       "<style scoped>\n",
       "    .dataframe tbody tr th:only-of-type {\n",
       "        vertical-align: middle;\n",
       "    }\n",
       "\n",
       "    .dataframe tbody tr th {\n",
       "        vertical-align: top;\n",
       "    }\n",
       "\n",
       "    .dataframe thead th {\n",
       "        text-align: right;\n",
       "    }\n",
       "</style>\n",
       "<table border=\"1\" class=\"dataframe\">\n",
       "  <thead>\n",
       "    <tr style=\"text-align: right;\">\n",
       "      <th></th>\n",
       "      <th>MajorUndergrad</th>\n",
       "      <th>FormalEducation</th>\n",
       "      <th>UnderstandComputers</th>\n",
       "      <th>Salary</th>\n",
       "      <th>CareerSatisfaction</th>\n",
       "      <th>JobSatisfaction</th>\n",
       "    </tr>\n",
       "  </thead>\n",
       "  <tbody>\n",
       "    <tr>\n",
       "      <th>0</th>\n",
       "      <td>NaN</td>\n",
       "      <td>Secondary school</td>\n",
       "      <td>Disagree</td>\n",
       "      <td>NaN</td>\n",
       "      <td>NaN</td>\n",
       "      <td>NaN</td>\n",
       "    </tr>\n",
       "    <tr>\n",
       "      <th>1</th>\n",
       "      <td>Computer science or software engineering</td>\n",
       "      <td>Some college/university study without earning ...</td>\n",
       "      <td>NaN</td>\n",
       "      <td>NaN</td>\n",
       "      <td>NaN</td>\n",
       "      <td>NaN</td>\n",
       "    </tr>\n",
       "    <tr>\n",
       "      <th>2</th>\n",
       "      <td>Computer science or software engineering</td>\n",
       "      <td>Bachelor's degree</td>\n",
       "      <td>Disagree</td>\n",
       "      <td>113750.0</td>\n",
       "      <td>8.0</td>\n",
       "      <td>9.0</td>\n",
       "    </tr>\n",
       "    <tr>\n",
       "      <th>3</th>\n",
       "      <td>A non-computer-focused engineering discipline</td>\n",
       "      <td>Doctoral degree</td>\n",
       "      <td>Strongly disagree</td>\n",
       "      <td>NaN</td>\n",
       "      <td>6.0</td>\n",
       "      <td>3.0</td>\n",
       "    </tr>\n",
       "    <tr>\n",
       "      <th>4</th>\n",
       "      <td>Computer science or software engineering</td>\n",
       "      <td>Master's degree</td>\n",
       "      <td>NaN</td>\n",
       "      <td>NaN</td>\n",
       "      <td>6.0</td>\n",
       "      <td>8.0</td>\n",
       "    </tr>\n",
       "    <tr>\n",
       "      <th>5</th>\n",
       "      <td>NaN</td>\n",
       "      <td>Secondary school</td>\n",
       "      <td>NaN</td>\n",
       "      <td>NaN</td>\n",
       "      <td>NaN</td>\n",
       "      <td>NaN</td>\n",
       "    </tr>\n",
       "    <tr>\n",
       "      <th>6</th>\n",
       "      <td>A non-computer-focused engineering discipline</td>\n",
       "      <td>Master's degree</td>\n",
       "      <td>NaN</td>\n",
       "      <td>NaN</td>\n",
       "      <td>7.0</td>\n",
       "      <td>6.0</td>\n",
       "    </tr>\n",
       "    <tr>\n",
       "      <th>7</th>\n",
       "      <td>Computer science or software engineering</td>\n",
       "      <td>Master's degree</td>\n",
       "      <td>NaN</td>\n",
       "      <td>NaN</td>\n",
       "      <td>7.0</td>\n",
       "      <td>7.0</td>\n",
       "    </tr>\n",
       "    <tr>\n",
       "      <th>8</th>\n",
       "      <td>Computer science or software engineering</td>\n",
       "      <td>Bachelor's degree</td>\n",
       "      <td>Strongly disagree</td>\n",
       "      <td>NaN</td>\n",
       "      <td>6.0</td>\n",
       "      <td>6.0</td>\n",
       "    </tr>\n",
       "    <tr>\n",
       "      <th>9</th>\n",
       "      <td>Computer science or software engineering</td>\n",
       "      <td>Master's degree</td>\n",
       "      <td>NaN</td>\n",
       "      <td>NaN</td>\n",
       "      <td>6.0</td>\n",
       "      <td>8.0</td>\n",
       "    </tr>\n",
       "    <tr>\n",
       "      <th>10</th>\n",
       "      <td>A social science</td>\n",
       "      <td>Bachelor's degree</td>\n",
       "      <td>NaN</td>\n",
       "      <td>NaN</td>\n",
       "      <td>8.0</td>\n",
       "      <td>9.0</td>\n",
       "    </tr>\n",
       "    <tr>\n",
       "      <th>11</th>\n",
       "      <td>Computer science or software engineering</td>\n",
       "      <td>Bachelor's degree</td>\n",
       "      <td>NaN</td>\n",
       "      <td>NaN</td>\n",
       "      <td>8.0</td>\n",
       "      <td>6.0</td>\n",
       "    </tr>\n",
       "    <tr>\n",
       "      <th>12</th>\n",
       "      <td>Mathematics or statistics</td>\n",
       "      <td>Bachelor's degree</td>\n",
       "      <td>NaN</td>\n",
       "      <td>NaN</td>\n",
       "      <td>3.0</td>\n",
       "      <td>NaN</td>\n",
       "    </tr>\n",
       "    <tr>\n",
       "      <th>13</th>\n",
       "      <td>Computer science or software engineering</td>\n",
       "      <td>Some college/university study without earning ...</td>\n",
       "      <td>NaN</td>\n",
       "      <td>NaN</td>\n",
       "      <td>8.0</td>\n",
       "      <td>6.0</td>\n",
       "    </tr>\n",
       "    <tr>\n",
       "      <th>14</th>\n",
       "      <td>Computer engineering or electrical/electronics...</td>\n",
       "      <td>Professional degree</td>\n",
       "      <td>Disagree</td>\n",
       "      <td>100000.0</td>\n",
       "      <td>8.0</td>\n",
       "      <td>8.0</td>\n",
       "    </tr>\n",
       "    <tr>\n",
       "      <th>15</th>\n",
       "      <td>NaN</td>\n",
       "      <td>Primary/elementary school</td>\n",
       "      <td>Disagree</td>\n",
       "      <td>NaN</td>\n",
       "      <td>8.0</td>\n",
       "      <td>8.0</td>\n",
       "    </tr>\n",
       "    <tr>\n",
       "      <th>16</th>\n",
       "      <td>NaN</td>\n",
       "      <td>Secondary school</td>\n",
       "      <td>Strongly agree</td>\n",
       "      <td>NaN</td>\n",
       "      <td>6.0</td>\n",
       "      <td>NaN</td>\n",
       "    </tr>\n",
       "    <tr>\n",
       "      <th>17</th>\n",
       "      <td>Computer science or software engineering</td>\n",
       "      <td>Bachelor's degree</td>\n",
       "      <td>Strongly agree</td>\n",
       "      <td>130000.0</td>\n",
       "      <td>9.0</td>\n",
       "      <td>8.0</td>\n",
       "    </tr>\n",
       "    <tr>\n",
       "      <th>18</th>\n",
       "      <td>Computer science or software engineering</td>\n",
       "      <td>Bachelor's degree</td>\n",
       "      <td>Disagree</td>\n",
       "      <td>82500.0</td>\n",
       "      <td>5.0</td>\n",
       "      <td>3.0</td>\n",
       "    </tr>\n",
       "    <tr>\n",
       "      <th>19</th>\n",
       "      <td>A natural science</td>\n",
       "      <td>Doctoral degree</td>\n",
       "      <td>Somewhat agree</td>\n",
       "      <td>NaN</td>\n",
       "      <td>8.0</td>\n",
       "      <td>8.0</td>\n",
       "    </tr>\n",
       "  </tbody>\n",
       "</table>\n",
       "</div>"
      ],
      "text/plain": [
       "                                       MajorUndergrad  \\\n",
       "0                                                 NaN   \n",
       "1            Computer science or software engineering   \n",
       "2            Computer science or software engineering   \n",
       "3       A non-computer-focused engineering discipline   \n",
       "4            Computer science or software engineering   \n",
       "5                                                 NaN   \n",
       "6       A non-computer-focused engineering discipline   \n",
       "7            Computer science or software engineering   \n",
       "8            Computer science or software engineering   \n",
       "9            Computer science or software engineering   \n",
       "10                                   A social science   \n",
       "11           Computer science or software engineering   \n",
       "12                          Mathematics or statistics   \n",
       "13           Computer science or software engineering   \n",
       "14  Computer engineering or electrical/electronics...   \n",
       "15                                                NaN   \n",
       "16                                                NaN   \n",
       "17           Computer science or software engineering   \n",
       "18           Computer science or software engineering   \n",
       "19                                  A natural science   \n",
       "\n",
       "                                      FormalEducation UnderstandComputers  \\\n",
       "0                                    Secondary school            Disagree   \n",
       "1   Some college/university study without earning ...                 NaN   \n",
       "2                                   Bachelor's degree            Disagree   \n",
       "3                                     Doctoral degree   Strongly disagree   \n",
       "4                                     Master's degree                 NaN   \n",
       "5                                    Secondary school                 NaN   \n",
       "6                                     Master's degree                 NaN   \n",
       "7                                     Master's degree                 NaN   \n",
       "8                                   Bachelor's degree   Strongly disagree   \n",
       "9                                     Master's degree                 NaN   \n",
       "10                                  Bachelor's degree                 NaN   \n",
       "11                                  Bachelor's degree                 NaN   \n",
       "12                                  Bachelor's degree                 NaN   \n",
       "13  Some college/university study without earning ...                 NaN   \n",
       "14                                Professional degree            Disagree   \n",
       "15                          Primary/elementary school            Disagree   \n",
       "16                                   Secondary school      Strongly agree   \n",
       "17                                  Bachelor's degree      Strongly agree   \n",
       "18                                  Bachelor's degree            Disagree   \n",
       "19                                    Doctoral degree      Somewhat agree   \n",
       "\n",
       "      Salary  CareerSatisfaction  JobSatisfaction  \n",
       "0        NaN                 NaN              NaN  \n",
       "1        NaN                 NaN              NaN  \n",
       "2   113750.0                 8.0              9.0  \n",
       "3        NaN                 6.0              3.0  \n",
       "4        NaN                 6.0              8.0  \n",
       "5        NaN                 NaN              NaN  \n",
       "6        NaN                 7.0              6.0  \n",
       "7        NaN                 7.0              7.0  \n",
       "8        NaN                 6.0              6.0  \n",
       "9        NaN                 6.0              8.0  \n",
       "10       NaN                 8.0              9.0  \n",
       "11       NaN                 8.0              6.0  \n",
       "12       NaN                 3.0              NaN  \n",
       "13       NaN                 8.0              6.0  \n",
       "14  100000.0                 8.0              8.0  \n",
       "15       NaN                 8.0              8.0  \n",
       "16       NaN                 6.0              NaN  \n",
       "17  130000.0                 9.0              8.0  \n",
       "18   82500.0                 5.0              3.0  \n",
       "19       NaN                 8.0              8.0  "
      ]
     },
     "execution_count": 13,
     "metadata": {},
     "output_type": "execute_result"
    }
   ],
   "source": [
    "#Create a subset of the data that includes only the variables of interest\n",
    "vars = df[['MajorUndergrad','FormalEducation', 'UnderstandComputers','Salary', 'CareerSatisfaction', 'JobSatisfaction']]\n",
    "vars.head(20)"
   ]
  },
  {
   "cell_type": "markdown",
   "id": "a50ad6d2",
   "metadata": {},
   "source": [
    "### Data Pre-Preparation "
   ]
  },
  {
   "cell_type": "code",
   "execution_count": 14,
   "id": "febbbeeb",
   "metadata": {},
   "outputs": [
    {
     "name": "stdout",
     "output_type": "stream",
     "text": [
      "<class 'pandas.core.frame.DataFrame'>\n",
      "RangeIndex: 51392 entries, 0 to 51391\n",
      "Data columns (total 6 columns):\n",
      " #   Column               Non-Null Count  Dtype  \n",
      "---  ------               --------------  -----  \n",
      " 0   MajorUndergrad       42841 non-null  object \n",
      " 1   FormalEducation      51392 non-null  object \n",
      " 2   UnderstandComputers  31047 non-null  object \n",
      " 3   Salary               12891 non-null  float64\n",
      " 4   CareerSatisfaction   42695 non-null  float64\n",
      " 5   JobSatisfaction      40376 non-null  float64\n",
      "dtypes: float64(3), object(3)\n",
      "memory usage: 2.4+ MB\n"
     ]
    }
   ],
   "source": [
    "#Examine the shape, null count, and data types of the subset of data \n",
    "vars.info()"
   ]
  },
  {
   "cell_type": "code",
   "execution_count": 15,
   "id": "b5ad723d",
   "metadata": {},
   "outputs": [
    {
     "data": {
      "text/plain": [
       "MajorUndergrad         0.166388\n",
       "FormalEducation        0.000000\n",
       "UnderstandComputers    0.395879\n",
       "Salary                 0.749163\n",
       "CareerSatisfaction     0.169229\n",
       "JobSatisfaction        0.214352\n",
       "dtype: float64"
      ]
     },
     "execution_count": 15,
     "metadata": {},
     "output_type": "execute_result"
    }
   ],
   "source": [
    "#What percentage of the dataset for each variable is null?\n",
    "vars.isnull().sum()/df.shape[0]\n"
   ]
  },
  {
   "cell_type": "markdown",
   "id": "2346beb5",
   "metadata": {},
   "source": [
    "Good news! None of the variables of interest are missing all values. Also, I'm not planning to predict any outcomes with this data. So I do not need to remove any of the missing data at this time. Even though some of these variables contain a lot of missing values, they still provide data relvant to the questions at hand. Plus, with such a large dataset there are still a large number of observations to work with."
   ]
  },
  {
   "cell_type": "markdown",
   "id": "90e56a9f",
   "metadata": {},
   "source": [
    "## Data Preparation\n",
    "Next, I will take a look at each variable to see if any preparation is needed such as encoding, transforming, or constructing."
   ]
  },
  {
   "cell_type": "code",
   "execution_count": 16,
   "id": "13d609bc",
   "metadata": {},
   "outputs": [
    {
     "name": "stdout",
     "output_type": "stream",
     "text": [
      "Computer science or software engineering                        21409\n",
      "Computer engineering or electrical/electronics engineering       4364\n",
      "Computer programming or Web development                          3883\n",
      "Information technology, networking, or system administration     2140\n",
      "A natural science                                                1865\n",
      "A non-computer-focused engineering discipline                    1789\n",
      "Mathematics or statistics                                        1648\n",
      "Something else                                                   1060\n",
      "A humanities discipline                                           901\n",
      "A business discipline                                             900\n",
      "Management information systems                                    654\n",
      "Fine arts or performing arts                                      646\n",
      "A social science                                                  633\n",
      "I never declared a major                                          592\n",
      "Psychology                                                        215\n",
      "A health science                                                  142\n",
      "Name: MajorUndergrad, dtype: int64\n"
     ]
    }
   ],
   "source": [
    "var_count1 = vars['MajorUndergrad'].value_counts()\n",
    "print (var_count1)"
   ]
  },
  {
   "cell_type": "markdown",
   "id": "ee30fae7",
   "metadata": {},
   "source": [
    "Each type of major is listed individually, so there is no need to parse the string values. Since this is a categorical variable, it should be a string. So this variable looks good to me for the questions I am trying to answer. I can now create some exploratory figures to better understand the distribution of responses. "
   ]
  },
  {
   "cell_type": "code",
   "execution_count": 17,
   "id": "49fca5e8",
   "metadata": {},
   "outputs": [
    {
     "data": {
      "text/plain": [
       "Computer science or software engineering                        0.499732\n",
       "Computer engineering or electrical/electronics engineering      0.101865\n",
       "Computer programming or Web development                         0.090637\n",
       "Information technology, networking, or system administration    0.049952\n",
       "A natural science                                               0.043533\n",
       "A non-computer-focused engineering discipline                   0.041759\n",
       "Mathematics or statistics                                       0.038468\n",
       "Something else                                                  0.024743\n",
       "A humanities discipline                                         0.021031\n",
       "A business discipline                                           0.021008\n",
       "Management information systems                                  0.015266\n",
       "Fine arts or performing arts                                    0.015079\n",
       "A social science                                                0.014776\n",
       "I never declared a major                                        0.013819\n",
       "Psychology                                                      0.005019\n",
       "A health science                                                0.003315\n",
       "Name: MajorUndergrad, dtype: float64"
      ]
     },
     "execution_count": 17,
     "metadata": {},
     "output_type": "execute_result"
    }
   ],
   "source": [
    "#Find the relative frequency of each major\n",
    "var_count1/var_count1.sum()"
   ]
  },
  {
   "cell_type": "code",
   "execution_count": 37,
   "id": "7d06cbdf",
   "metadata": {},
   "outputs": [],
   "source": [
    "def countplot_pct(df, column_name, order, color):\n",
    "    '''\n",
    "    This function creates a barplot of the absolute frequency of each series in a column and prints the relative frequency\n",
    "    as a percent on each bar. \n",
    "    \n",
    "    Input:\n",
    "    df - dataframe\n",
    "    column_name - column name in the df that you would like to plot\n",
    "    order - the order you want the bars to be plotted in (e.g. vars['FormalEducation'].value_counts().index    )\n",
    "    color - assign a variable the color to make the plot (e.g. sb.color_palette('Set2')[3]   )\n",
    "    \n",
    "    Output:\n",
    "    Barplot of absolute frequency\n",
    "    '''\n",
    "\n",
    "    fig = plt.figure()\n",
    "    ax = fig.add_axes([.125, .125, 1.5, 1.2])\n",
    "    sb.countplot(data=df, y=column_name, color=base_color, order=order)\n",
    "    plt.ylabel('')\n",
    "    plt.xlabel('Count')\n",
    "    plt.title(column_name)\n",
    "    \n",
    "    var_count = df[column_name].value_counts()\n",
    "\n",
    "    for i in range (var_count.shape[0]):\n",
    "        count = var_count[i]\n",
    "        pct_str = '{:0.1f}%'.format(100*count/var_count.sum())\n",
    "        plt.text(count+1, i, pct_str, va='center')"
   ]
  },
  {
   "cell_type": "code",
   "execution_count": 38,
   "id": "36732204",
   "metadata": {},
   "outputs": [
    {
     "data": {
      "image/png": "[encoded data removed]",
      "text/plain": [
       "<Figure size 432x288 with 1 Axes>"
      ]
     },
     "metadata": {
      "needs_background": "light"
     },
     "output_type": "display_data"
    }
   ],
   "source": [
    "    base_color=sb.color_palette('Set2')[3]\n",
    "    order= vars['MajorUndergrad'].value_counts().index\n",
    "    countplot(vars, 'MajorUndergrad', order, base_color)"
   ]
  },
  {
   "cell_type": "markdown",
   "id": "2979a8b2",
   "metadata": {},
   "source": [
    "I put the results of the plot in order of frequency so I can see from this plot that about 85% of developers have some background in computers, engineering, info tech, or science. This doesn't answer my questions yet, but after I look at the distribution for majors, degrees, and computer savvy, I'll come back to do an analysis of salary and satisfaction."
   ]
  },
  {
   "cell_type": "code",
   "execution_count": 12,
   "id": "4962fcc6",
   "metadata": {},
   "outputs": [
    {
     "name": "stdout",
     "output_type": "stream",
     "text": [
      "Bachelor's degree                                                    21609\n",
      "Master's degree                                                      11141\n",
      "Some college/university study without earning a bachelor's degree     8129\n",
      "Secondary school                                                      5908\n",
      "Doctoral degree                                                       1308\n",
      "I prefer not to answer                                                1109\n",
      "Primary/elementary school                                             1047\n",
      "Professional degree                                                    715\n",
      "I never completed any formal education                                 426\n",
      "Name: FormalEducation, dtype: int64\n"
     ]
    }
   ],
   "source": [
    "var_count2 = vars['FormalEducation'].value_counts()\n",
    "print (var_count2)"
   ]
  },
  {
   "cell_type": "markdown",
   "id": "23b284f0",
   "metadata": {},
   "source": [
    "Each type of formal education is listed individually, so there is no need to parse the string values. Since this is a categorical variable, it should be a string. So this variable also looks good to me. Also of note, this is the only variable I selected that has no missing values."
   ]
  },
  {
   "cell_type": "code",
   "execution_count": 24,
   "id": "a088d910",
   "metadata": {},
   "outputs": [
    {
     "data": {
      "text/plain": [
       "Bachelor's degree                                                    0.420474\n",
       "Master's degree                                                      0.216785\n",
       "Some college/university study without earning a bachelor's degree    0.158176\n",
       "Secondary school                                                     0.114960\n",
       "Doctoral degree                                                      0.025451\n",
       "I prefer not to answer                                               0.021579\n",
       "Primary/elementary school                                            0.020373\n",
       "Professional degree                                                  0.013913\n",
       "I never completed any formal education                               0.008289\n",
       "Name: FormalEducation, dtype: float64"
      ]
     },
     "execution_count": 24,
     "metadata": {},
     "output_type": "execute_result"
    }
   ],
   "source": [
    "#Find the relative frequency of each type of education\n",
    "var_count2/var_count2.sum()"
   ]
  },
  {
   "cell_type": "code",
   "execution_count": 36,
   "id": "79e7ce19",
   "metadata": {},
   "outputs": [
    {
     "data": {
      "image/png": "[encoded data removed]",
      "text/plain": [
       "<Figure size 432x288 with 1 Axes>"
      ]
     },
     "metadata": {
      "needs_background": "light"
     },
     "output_type": "display_data"
    }
   ],
   "source": [
    "base_color=sb.color_palette('Set2')[2]\n",
    "order= vars['FormalEducation'].value_counts().index\n",
    "countplot(vars, 'FormalEducation', order, base_color)"
   ]
  },
  {
   "cell_type": "markdown",
   "id": "1316d615",
   "metadata": {},
   "source": [
    "Again, I've put these in order of frequency to see what the most common education levels of develoeprs are. Most have a bachelor's degree, but I can also see that about 35% of developers have less than a bachelor's degree, which seems pretty high for such a high skilled profession! "
   ]
  },
  {
   "cell_type": "code",
   "execution_count": 41,
   "id": "a718131c",
   "metadata": {},
   "outputs": [
    {
     "name": "stdout",
     "output_type": "stream",
     "text": [
      "Disagree             8036\n",
      "Strongly disagree    3518\n",
      "Strongly agree       4306\n",
      "Somewhat agree       8071\n",
      "Agree                7116\n",
      "Name: UnderstandComputers, dtype: int64\n"
     ]
    }
   ],
   "source": [
    "#For this variable, I think it makes the most sense that the responses be lsited in order from Strongly Disagree to Strongly Agree\n",
    "#So I don't want the value counts to be sorted in descending order\n",
    "var_count3 = df['UnderstandComputers'].value_counts(sort=False)\n",
    "print (var_count3)"
   ]
  },
  {
   "cell_type": "code",
   "execution_count": 42,
   "id": "7ae48c79",
   "metadata": {},
   "outputs": [],
   "source": [
    "#Not sorting the value counts still doesn't give me the order I want, so I need to reindex the responses \n",
    "#This also means I will not be able to use the function to generate the plot because it does not include a step to reindex\n",
    "var_count3a = var_count3.reindex(['Strongly disagree','Disagree','Somewhat agree','Agree','Strongly agree'])"
   ]
  },
  {
   "cell_type": "code",
   "execution_count": 23,
   "id": "f97e5020",
   "metadata": {},
   "outputs": [
    {
     "data": {
      "text/plain": [
       "Strongly disagree    0.113312\n",
       "Disagree             0.258833\n",
       "Somewhat agree       0.259961\n",
       "Agree                0.229201\n",
       "Strongly agree       0.138693\n",
       "Name: UnderstandComputers, dtype: float64"
      ]
     },
     "execution_count": 23,
     "metadata": {},
     "output_type": "execute_result"
    }
   ],
   "source": [
    "#Now that they are in the right order, I want to find the relative frequency of each major\n",
    "var_count3a/var_count3a.sum()"
   ]
  },
  {
   "cell_type": "code",
   "execution_count": 45,
   "id": "bac8cc17",
   "metadata": {
    "scrolled": false
   },
   "outputs": [
    {
     "data": {
      "text/plain": [
       "''"
      ]
     },
     "execution_count": 45,
     "metadata": {},
     "output_type": "execute_result"
    },
    {
     "data": {
      "image/png": "[encoded data removed]",
      "text/plain": [
       "<Figure size 432x288 with 1 Axes>"
      ]
     },
     "metadata": {
      "needs_background": "light"
     },
     "output_type": "display_data"
    }
   ],
   "source": [
    "#Plot the relative frequency\n",
    "base_color=sb.color_palette('Set2')[5]\n",
    "order = ['Strongly disagree', 'Disagree', 'Somewhat agree', 'Agree', 'Strongly agree']\n",
    "fig = plt.figure()\n",
    "ax = fig.add_axes([.125, .125, 1.5, 1.2])\n",
    "sb.countplot(data=vars, y='UnderstandComputers', color=base_color, order=order)\n",
    "plt.ylabel('')\n",
    "plt.xlabel('Count')\n",
    "plt.title('There\\'s a lot about computers that I just don\\'t understand (Computer Savvy) 2017')\n",
    "for i in range (var_count8a.shape[0]):\n",
    "    count = var_count8a[i]\n",
    "    pct_str = '{:0.1f}%'.format(100*count/vars['UnderstandComputers'].value_counts().sum())\n",
    "    plt.text(count+1, i, pct_str, va='center')\n",
    ";"
   ]
  },
  {
   "cell_type": "markdown",
   "id": "5d2201e5",
   "metadata": {},
   "source": [
    "The double negative in this survey question makes it a little harder to interpret. But basically, 11% of respondents strongly disagree that they don't understand computers--they think they understand them well! About 50% said they disagree or somewhat agree, so they understand computers well enough. The bottom 35% agree that they don't understand computers well. I definitely would have expected the results for developers to be skewed more towards disagree for this question."
   ]
  },
  {
   "cell_type": "code",
   "execution_count": 26,
   "id": "fba4c18c",
   "metadata": {},
   "outputs": [
    {
     "name": "stdout",
     "output_type": "stream",
     "text": [
      "8.0     11037\n",
      "7.0      9384\n",
      "9.0      5579\n",
      "10.0     5408\n",
      "6.0      4721\n",
      "5.0      3070\n",
      "4.0      1352\n",
      "3.0      1046\n",
      "2.0       495\n",
      "0.0       392\n",
      "1.0       211\n",
      "Name: CareerSatisfaction, dtype: int64\n"
     ]
    }
   ],
   "source": [
    "#To wrap up preparation, I want to take a quick look at the numeric variables to confirm they appear as I expect. \n",
    "var_count4 = vars['CareerSatisfaction'].value_counts()\n",
    "print (var_count4)"
   ]
  },
  {
   "cell_type": "code",
   "execution_count": 27,
   "id": "6f5989c1",
   "metadata": {},
   "outputs": [
    {
     "name": "stdout",
     "output_type": "stream",
     "text": [
      "8.0     8983\n",
      "7.0     7969\n",
      "9.0     5573\n",
      "6.0     4726\n",
      "10.0    4148\n",
      "5.0     3749\n",
      "4.0     1865\n",
      "3.0     1635\n",
      "2.0      888\n",
      "0.0      467\n",
      "1.0      373\n",
      "Name: JobSatisfaction, dtype: int64\n"
     ]
    }
   ],
   "source": [
    "var_count5 = vars['JobSatisfaction'].value_counts()\n",
    "print (var_count5)"
   ]
  },
  {
   "cell_type": "code",
   "execution_count": 32,
   "id": "ffcdd5b5",
   "metadata": {},
   "outputs": [
    {
     "data": {
      "text/plain": [
       "count     12891.000000\n",
       "mean      56298.480641\n",
       "std       39880.905277\n",
       "min           0.000000\n",
       "25%       26440.371839\n",
       "50%       50000.000000\n",
       "75%       80000.000000\n",
       "max      197000.000000\n",
       "Name: Salary, dtype: float64"
      ]
     },
     "execution_count": 32,
     "metadata": {},
     "output_type": "execute_result"
    }
   ],
   "source": [
    "#I'm not expecting to get a count for salaries, since it is a continuous variable rather than discrete.\n",
    "#So, I'll describe this one instead. \n",
    "vars['Salary'].describe()"
   ]
  },
  {
   "cell_type": "markdown",
   "id": "cc34a0b5",
   "metadata": {},
   "source": [
    "The overall average for all salaries in the dataset is \\\\$56k. The maximum is \\\\ $197,000 and the minimum is \\\\ $0. The minimum makes sense in that not all developers are necessarily currently employed as such. While I may want to drop the rows with $0 for the salary analysis, I don't want to eliminate data points for the satisfaction analysis, so I'll do the salary last and drop the zeros at that point. "
   ]
  },
  {
   "cell_type": "markdown",
   "id": "438e7ff7",
   "metadata": {},
   "source": [
    "## Visualization\n",
    "Next, I want to do a more in-depth analysis to answer my business questions. That will require me to create some bivariate plots to visualize and analyze the relationship between these three categorical variables and the numeric variables for satisfaction ratings and salary. My questions don't require ML so I can skip the CRISP-DM steps to model and evaluate. "
   ]
  },
  {
   "cell_type": "markdown",
   "id": "e8653eb8",
   "metadata": {},
   "source": [
    "This variable looks good! I can start using this discrete numeric variable in bivariate plots to show the relationship with the previous variables and career satisfaction."
   ]
  },
  {
   "cell_type": "markdown",
   "id": "f45f466f",
   "metadata": {},
   "source": [
    "##### Satisfaction relative to undergraduate major"
   ]
  },
  {
   "cell_type": "code",
   "execution_count": 32,
   "id": "79f86eb0",
   "metadata": {
    "scrolled": false
   },
   "outputs": [
    {
     "data": {
      "image/png": "[encoded data removed]",
      "text/plain": [
       "<Figure size 576x432 with 1 Axes>"
      ]
     },
     "metadata": {
      "needs_background": "light"
     },
     "output_type": "display_data"
    }
   ],
   "source": [
    "base_color=sb.color_palette('Set2')[3]\n",
    "order = vars['MajorUndergrad'].value_counts().index\n",
    "plt.figure(1,(8,6))\n",
    "sb.boxplot(data=vars, y='MajorUndergrad', x='CareerSatisfaction', color=base_color, fliersize=2, order = order)\n",
    "plt.ylabel('')\n",
    "plt.xlabel('Career Satisfaction rating (0-10)')\n",
    "plt.title('Career Satisfaction by Undergraduate Major');"
   ]
  },
  {
   "cell_type": "markdown",
   "id": "9b116d6e",
   "metadata": {},
   "source": [
    "Career satisfaction has some variation, but is relatively consistent. It seems to show that developers with a social science background rate their satisfaction just as highly as STEM majors and for some non-STEM backgrounds the range of average ratings is even more positively skewed than for STEM majors."
   ]
  },
  {
   "cell_type": "code",
   "execution_count": 28,
   "id": "d443f5b9",
   "metadata": {},
   "outputs": [
    {
     "data": {
      "image/png": "[encoded data removed]",
      "text/plain": [
       "<Figure size 576x432 with 1 Axes>"
      ]
     },
     "metadata": {
      "needs_background": "light"
     },
     "output_type": "display_data"
    }
   ],
   "source": [
    "base_color=sb.color_palette('Set2')[3]\n",
    "order = vars['MajorUndergrad'].value_counts().index\n",
    "plt.figure(1,(8,6))\n",
    "sb.boxplot(data=vars, y='MajorUndergrad', x='JobSatisfaction', color=base_color, fliersize=2, order = order)\n",
    "plt.ylabel('')\n",
    "plt.xlabel('Job Satisfaction rating (0-10)')\n",
    "plt.title('Job Satisfaction by Undergraduate Major');"
   ]
  },
  {
   "cell_type": "markdown",
   "id": "e8be4d7a",
   "metadata": {},
   "source": [
    "The average ratings for job satisfaction is remarkably consistent across most of the majors and some of the non-STEM majors are again more positively skewed. Good findings for non-STEM majors interested in being a developer."
   ]
  },
  {
   "cell_type": "markdown",
   "id": "f20406ec",
   "metadata": {},
   "source": [
    "##### Satisfaction relative to formal education level"
   ]
  },
  {
   "cell_type": "markdown",
   "id": "91d52642",
   "metadata": {},
   "source": [
    "For these graphs, I decided it made the most sense to put the responses in order of descending education level, starting with the highest level being a doctoral degree. "
   ]
  },
  {
   "cell_type": "code",
   "execution_count": 38,
   "id": "f8b8773c",
   "metadata": {},
   "outputs": [
    {
     "data": {
      "image/png": "[encoded data removed]",
      "text/plain": [
       "<Figure size 576x360 with 1 Axes>"
      ]
     },
     "metadata": {
      "needs_background": "light"
     },
     "output_type": "display_data"
    }
   ],
   "source": [
    "base_color=sb.color_palette('Set2')[2]\n",
    "order= ['Doctoral degree','Master\\'s degree','Professional degree','Bachelor\\'s degree','Some college/university study without earning a bachelor\\'s degree','Secondary school','Primary/elementary school','I never completed any formal education','I prefer not to answer']\n",
    "plt.figure(1,(8,5))\n",
    "sb.boxplot(data=vars, y='FormalEducation', x='CareerSatisfaction', color=base_color, fliersize=2, order = order)\n",
    "plt.ylabel('')\n",
    "plt.xlabel('Career Satisfaction Rating')\n",
    "plt.title('Career Satisfaction by Formal Education 2017');"
   ]
  },
  {
   "cell_type": "code",
   "execution_count": 39,
   "id": "b45234e6",
   "metadata": {},
   "outputs": [
    {
     "data": {
      "image/png": "[encoded data removed]",
      "text/plain": [
       "<Figure size 576x360 with 1 Axes>"
      ]
     },
     "metadata": {
      "needs_background": "light"
     },
     "output_type": "display_data"
    }
   ],
   "source": [
    "base_color=sb.color_palette('Set2')[2]\n",
    "order= ['Doctoral degree','Master\\'s degree','Professional degree','Bachelor\\'s degree','Some college/university study without earning a bachelor\\'s degree','Secondary school','Primary/elementary school','I never completed any formal education','I prefer not to answer']\n",
    "plt.figure(1,(8,5))\n",
    "sb.boxplot(data=vars, y='FormalEducation', x='JobSatisfaction', color=base_color, fliersize=2, order = order)\n",
    "plt.ylabel('')\n",
    "plt.xlabel('Job Satisfaction Rating')\n",
    "plt.title('Job Satisfaction by Formal Education 2017');"
   ]
  },
  {
   "cell_type": "markdown",
   "id": "0532981f",
   "metadata": {},
   "source": [
    "There are some peaks in job satisfaction depending on the degree a developer holds, where the ranges of satisfaction ratings are widest for education levels under a bachelors and for doctoral degrees. However, they are all positively skewed regardless of education level. The same is true of overall career satisfaction in Figure 7 and the ratings are even more consistent. The range of average satisfaction ratings is much narrower for bachelor's and master's holders than other education levels, suggesting perhaps more consistency.The lowest average satisfaction ratings are for those who had only primary school education or never completed formal education. This is interesting in contrast to the salaries reported by this group. "
   ]
  },
  {
   "cell_type": "markdown",
   "id": "6672bbdd",
   "metadata": {},
   "source": [
    "##### Satisfaction relative to computer savvy"
   ]
  },
  {
   "cell_type": "markdown",
   "id": "9229429c",
   "metadata": {},
   "source": [
    "Again, I kept these in the order of Strongly Disagree to Strongly Agree"
   ]
  },
  {
   "cell_type": "code",
   "execution_count": 46,
   "id": "8fb8b212",
   "metadata": {},
   "outputs": [
    {
     "data": {
      "image/png": "[encoded data removed]",
      "text/plain": [
       "<Figure size 576x360 with 1 Axes>"
      ]
     },
     "metadata": {
      "needs_background": "light"
     },
     "output_type": "display_data"
    }
   ],
   "source": [
    "base_color=sb.color_palette('Set2')[5]\n",
    "order = ['Strongly disagree', 'Disagree', 'Somewhat agree', 'Agree', 'Strongly agree']\n",
    "plt.figure(1,(8,5))\n",
    "sb.boxplot(data=vars, y='UnderstandComputers', x='JobSatisfaction', color=base_color, fliersize=2, order = order)\n",
    "plt.ylabel('')\n",
    "plt.xlabel('Job Satisfaction Rating')\n",
    "plt.title('Job Satisfaction by Computer Savvy 2017');"
   ]
  },
  {
   "cell_type": "markdown",
   "id": "fbb84683",
   "metadata": {},
   "source": [
    "It seems those who understand computers well reported slightly higher job satisfaction than their peers. Meanwhile, everyone else reported the same average job satisfaction. That being said, those who strongly agree they don't understand computers well have a wider range of satisfaction ratings. "
   ]
  },
  {
   "cell_type": "code",
   "execution_count": 33,
   "id": "4b898f91",
   "metadata": {},
   "outputs": [
    {
     "data": {
      "image/png": "[encoded data removed]",
      "text/plain": [
       "<Figure size 576x360 with 1 Axes>"
      ]
     },
     "metadata": {
      "needs_background": "light"
     },
     "output_type": "display_data"
    }
   ],
   "source": [
    "base_color=sb.color_palette('Set2')[5]\n",
    "order = ['Strongly disagree', 'Disagree', 'Somewhat agree', 'Agree', 'Strongly agree']\n",
    "plt.figure(1,(8,5))\n",
    "sb.boxplot(data=vars, y='UnderstandComputers', x='CareerSatisfaction', color=base_color, fliersize=2, order = order)\n",
    "plt.ylabel('')\n",
    "plt.xlabel('Career Satisfaction Rating')\n",
    "plt.title('Career Satisfaction by Computer Savvy 2017');"
   ]
  },
  {
   "cell_type": "markdown",
   "id": "311c2d64",
   "metadata": {},
   "source": [
    "When it comes to career satisfaction, everyone seems quite satisfied overall. The average for all levels of computer savvy is a satisfaction rating of 7 or 8. Those who understand computers better more often gave a satisfaction rating of 9, though. "
   ]
  },
  {
   "cell_type": "markdown",
   "id": "9216e3b9",
   "metadata": {},
   "source": [
    "#### Salary Analysis"
   ]
  },
  {
   "cell_type": "markdown",
   "id": "6273591a",
   "metadata": {},
   "source": [
    "Now I'm going to drop the zero values from the Salary column because I think its unlikely that employed develoeprs are not being compensated for their work and skill. "
   ]
  },
  {
   "cell_type": "code",
   "execution_count": 35,
   "id": "a52b31fd",
   "metadata": {},
   "outputs": [],
   "source": [
    "vars2 = vars[(vars['Salary']>0)]"
   ]
  },
  {
   "cell_type": "code",
   "execution_count": 36,
   "id": "69519187",
   "metadata": {},
   "outputs": [
    {
     "data": {
      "text/html": [
       "<div>\n",
       "<style scoped>\n",
       "    .dataframe tbody tr th:only-of-type {\n",
       "        vertical-align: middle;\n",
       "    }\n",
       "\n",
       "    .dataframe tbody tr th {\n",
       "        vertical-align: top;\n",
       "    }\n",
       "\n",
       "    .dataframe thead th {\n",
       "        text-align: right;\n",
       "    }\n",
       "</style>\n",
       "<table border=\"1\" class=\"dataframe\">\n",
       "  <thead>\n",
       "    <tr style=\"text-align: right;\">\n",
       "      <th></th>\n",
       "      <th>MajorUndergrad</th>\n",
       "      <th>FormalEducation</th>\n",
       "      <th>UnderstandComputers</th>\n",
       "      <th>Salary</th>\n",
       "      <th>CareerSatisfaction</th>\n",
       "      <th>JobSatisfaction</th>\n",
       "    </tr>\n",
       "  </thead>\n",
       "  <tbody>\n",
       "    <tr>\n",
       "      <th>2</th>\n",
       "      <td>Computer science or software engineering</td>\n",
       "      <td>Bachelor's degree</td>\n",
       "      <td>Disagree</td>\n",
       "      <td>113750.0</td>\n",
       "      <td>8.0</td>\n",
       "      <td>9.0</td>\n",
       "    </tr>\n",
       "    <tr>\n",
       "      <th>14</th>\n",
       "      <td>Computer engineering or electrical/electronics...</td>\n",
       "      <td>Professional degree</td>\n",
       "      <td>Disagree</td>\n",
       "      <td>100000.0</td>\n",
       "      <td>8.0</td>\n",
       "      <td>8.0</td>\n",
       "    </tr>\n",
       "    <tr>\n",
       "      <th>17</th>\n",
       "      <td>Computer science or software engineering</td>\n",
       "      <td>Bachelor's degree</td>\n",
       "      <td>Strongly agree</td>\n",
       "      <td>130000.0</td>\n",
       "      <td>9.0</td>\n",
       "      <td>8.0</td>\n",
       "    </tr>\n",
       "    <tr>\n",
       "      <th>18</th>\n",
       "      <td>Computer science or software engineering</td>\n",
       "      <td>Bachelor's degree</td>\n",
       "      <td>Disagree</td>\n",
       "      <td>82500.0</td>\n",
       "      <td>5.0</td>\n",
       "      <td>3.0</td>\n",
       "    </tr>\n",
       "    <tr>\n",
       "      <th>22</th>\n",
       "      <td>Computer engineering or electrical/electronics...</td>\n",
       "      <td>Bachelor's degree</td>\n",
       "      <td>NaN</td>\n",
       "      <td>100764.0</td>\n",
       "      <td>8.0</td>\n",
       "      <td>9.0</td>\n",
       "    </tr>\n",
       "  </tbody>\n",
       "</table>\n",
       "</div>"
      ],
      "text/plain": [
       "                                       MajorUndergrad      FormalEducation  \\\n",
       "2            Computer science or software engineering    Bachelor's degree   \n",
       "14  Computer engineering or electrical/electronics...  Professional degree   \n",
       "17           Computer science or software engineering    Bachelor's degree   \n",
       "18           Computer science or software engineering    Bachelor's degree   \n",
       "22  Computer engineering or electrical/electronics...    Bachelor's degree   \n",
       "\n",
       "   UnderstandComputers    Salary  CareerSatisfaction  JobSatisfaction  \n",
       "2             Disagree  113750.0                 8.0              9.0  \n",
       "14            Disagree  100000.0                 8.0              8.0  \n",
       "17      Strongly agree  130000.0                 9.0              8.0  \n",
       "18            Disagree   82500.0                 5.0              3.0  \n",
       "22                 NaN  100764.0                 8.0              9.0  "
      ]
     },
     "execution_count": 36,
     "metadata": {},
     "output_type": "execute_result"
    }
   ],
   "source": [
    "vars2.head()"
   ]
  },
  {
   "cell_type": "code",
   "execution_count": 37,
   "id": "17db349e",
   "metadata": {},
   "outputs": [
    {
     "data": {
      "text/plain": [
       "count     12885.000000\n",
       "mean      56324.696464\n",
       "std       39871.676322\n",
       "min           0.014682\n",
       "25%       26515.151515\n",
       "50%       50000.000000\n",
       "75%       80000.000000\n",
       "max      197000.000000\n",
       "Name: Salary, dtype: float64"
      ]
     },
     "execution_count": 37,
     "metadata": {},
     "output_type": "execute_result"
    }
   ],
   "source": [
    "vars2['Salary'].describe()"
   ]
  },
  {
   "cell_type": "markdown",
   "id": "179140b5",
   "metadata": {},
   "source": [
    "Well, dropping all the zero values from the dataset didn't get me very far. The minimum salary is now 1.4 cents, which doens't tell me much either. I'll try adding the employment column to see if I can get results for full-time employed developers only. "
   ]
  },
  {
   "cell_type": "code",
   "execution_count": 41,
   "id": "421e5b3e",
   "metadata": {},
   "outputs": [
    {
     "data": {
      "text/html": [
       "<div>\n",
       "<style scoped>\n",
       "    .dataframe tbody tr th:only-of-type {\n",
       "        vertical-align: middle;\n",
       "    }\n",
       "\n",
       "    .dataframe tbody tr th {\n",
       "        vertical-align: top;\n",
       "    }\n",
       "\n",
       "    .dataframe thead th {\n",
       "        text-align: right;\n",
       "    }\n",
       "</style>\n",
       "<table border=\"1\" class=\"dataframe\">\n",
       "  <thead>\n",
       "    <tr style=\"text-align: right;\">\n",
       "      <th></th>\n",
       "      <th>MajorUndergrad</th>\n",
       "      <th>FormalEducation</th>\n",
       "      <th>UnderstandComputers</th>\n",
       "      <th>EmploymentStatus</th>\n",
       "      <th>Salary</th>\n",
       "      <th>CareerSatisfaction</th>\n",
       "      <th>JobSatisfaction</th>\n",
       "    </tr>\n",
       "  </thead>\n",
       "  <tbody>\n",
       "    <tr>\n",
       "      <th>0</th>\n",
       "      <td>NaN</td>\n",
       "      <td>Secondary school</td>\n",
       "      <td>Disagree</td>\n",
       "      <td>Not employed, and not looking for work</td>\n",
       "      <td>NaN</td>\n",
       "      <td>NaN</td>\n",
       "      <td>NaN</td>\n",
       "    </tr>\n",
       "    <tr>\n",
       "      <th>1</th>\n",
       "      <td>Computer science or software engineering</td>\n",
       "      <td>Some college/university study without earning ...</td>\n",
       "      <td>NaN</td>\n",
       "      <td>Employed part-time</td>\n",
       "      <td>NaN</td>\n",
       "      <td>NaN</td>\n",
       "      <td>NaN</td>\n",
       "    </tr>\n",
       "    <tr>\n",
       "      <th>2</th>\n",
       "      <td>Computer science or software engineering</td>\n",
       "      <td>Bachelor's degree</td>\n",
       "      <td>Disagree</td>\n",
       "      <td>Employed full-time</td>\n",
       "      <td>113750.0</td>\n",
       "      <td>8.0</td>\n",
       "      <td>9.0</td>\n",
       "    </tr>\n",
       "    <tr>\n",
       "      <th>3</th>\n",
       "      <td>A non-computer-focused engineering discipline</td>\n",
       "      <td>Doctoral degree</td>\n",
       "      <td>Strongly disagree</td>\n",
       "      <td>Employed full-time</td>\n",
       "      <td>NaN</td>\n",
       "      <td>6.0</td>\n",
       "      <td>3.0</td>\n",
       "    </tr>\n",
       "    <tr>\n",
       "      <th>4</th>\n",
       "      <td>Computer science or software engineering</td>\n",
       "      <td>Master's degree</td>\n",
       "      <td>NaN</td>\n",
       "      <td>Employed full-time</td>\n",
       "      <td>NaN</td>\n",
       "      <td>6.0</td>\n",
       "      <td>8.0</td>\n",
       "    </tr>\n",
       "  </tbody>\n",
       "</table>\n",
       "</div>"
      ],
      "text/plain": [
       "                                  MajorUndergrad  \\\n",
       "0                                            NaN   \n",
       "1       Computer science or software engineering   \n",
       "2       Computer science or software engineering   \n",
       "3  A non-computer-focused engineering discipline   \n",
       "4       Computer science or software engineering   \n",
       "\n",
       "                                     FormalEducation UnderstandComputers  \\\n",
       "0                                   Secondary school            Disagree   \n",
       "1  Some college/university study without earning ...                 NaN   \n",
       "2                                  Bachelor's degree            Disagree   \n",
       "3                                    Doctoral degree   Strongly disagree   \n",
       "4                                    Master's degree                 NaN   \n",
       "\n",
       "                         EmploymentStatus    Salary  CareerSatisfaction  \\\n",
       "0  Not employed, and not looking for work       NaN                 NaN   \n",
       "1                      Employed part-time       NaN                 NaN   \n",
       "2                      Employed full-time  113750.0                 8.0   \n",
       "3                      Employed full-time       NaN                 6.0   \n",
       "4                      Employed full-time       NaN                 6.0   \n",
       "\n",
       "   JobSatisfaction  \n",
       "0              NaN  \n",
       "1              NaN  \n",
       "2              9.0  \n",
       "3              3.0  \n",
       "4              8.0  "
      ]
     },
     "execution_count": 41,
     "metadata": {},
     "output_type": "execute_result"
    }
   ],
   "source": [
    "vars3 = df[['MajorUndergrad','FormalEducation', 'UnderstandComputers','EmploymentStatus','Salary', 'CareerSatisfaction', 'JobSatisfaction']]\n",
    "vars3.head()"
   ]
  },
  {
   "cell_type": "code",
   "execution_count": 43,
   "id": "b81dff65",
   "metadata": {},
   "outputs": [
    {
     "data": {
      "text/html": [
       "<div>\n",
       "<style scoped>\n",
       "    .dataframe tbody tr th:only-of-type {\n",
       "        vertical-align: middle;\n",
       "    }\n",
       "\n",
       "    .dataframe tbody tr th {\n",
       "        vertical-align: top;\n",
       "    }\n",
       "\n",
       "    .dataframe thead th {\n",
       "        text-align: right;\n",
       "    }\n",
       "</style>\n",
       "<table border=\"1\" class=\"dataframe\">\n",
       "  <thead>\n",
       "    <tr style=\"text-align: right;\">\n",
       "      <th></th>\n",
       "      <th>MajorUndergrad</th>\n",
       "      <th>FormalEducation</th>\n",
       "      <th>UnderstandComputers</th>\n",
       "      <th>EmploymentStatus</th>\n",
       "      <th>Salary</th>\n",
       "      <th>CareerSatisfaction</th>\n",
       "      <th>JobSatisfaction</th>\n",
       "    </tr>\n",
       "  </thead>\n",
       "  <tbody>\n",
       "    <tr>\n",
       "      <th>2</th>\n",
       "      <td>Computer science or software engineering</td>\n",
       "      <td>Bachelor's degree</td>\n",
       "      <td>Disagree</td>\n",
       "      <td>Employed full-time</td>\n",
       "      <td>113750.0</td>\n",
       "      <td>8.0</td>\n",
       "      <td>9.0</td>\n",
       "    </tr>\n",
       "    <tr>\n",
       "      <th>14</th>\n",
       "      <td>Computer engineering or electrical/electronics...</td>\n",
       "      <td>Professional degree</td>\n",
       "      <td>Disagree</td>\n",
       "      <td>Employed full-time</td>\n",
       "      <td>100000.0</td>\n",
       "      <td>8.0</td>\n",
       "      <td>8.0</td>\n",
       "    </tr>\n",
       "    <tr>\n",
       "      <th>17</th>\n",
       "      <td>Computer science or software engineering</td>\n",
       "      <td>Bachelor's degree</td>\n",
       "      <td>Strongly agree</td>\n",
       "      <td>Employed full-time</td>\n",
       "      <td>130000.0</td>\n",
       "      <td>9.0</td>\n",
       "      <td>8.0</td>\n",
       "    </tr>\n",
       "    <tr>\n",
       "      <th>18</th>\n",
       "      <td>Computer science or software engineering</td>\n",
       "      <td>Bachelor's degree</td>\n",
       "      <td>Disagree</td>\n",
       "      <td>Employed full-time</td>\n",
       "      <td>82500.0</td>\n",
       "      <td>5.0</td>\n",
       "      <td>3.0</td>\n",
       "    </tr>\n",
       "    <tr>\n",
       "      <th>22</th>\n",
       "      <td>Computer engineering or electrical/electronics...</td>\n",
       "      <td>Bachelor's degree</td>\n",
       "      <td>NaN</td>\n",
       "      <td>Employed full-time</td>\n",
       "      <td>100764.0</td>\n",
       "      <td>8.0</td>\n",
       "      <td>9.0</td>\n",
       "    </tr>\n",
       "  </tbody>\n",
       "</table>\n",
       "</div>"
      ],
      "text/plain": [
       "                                       MajorUndergrad      FormalEducation  \\\n",
       "2            Computer science or software engineering    Bachelor's degree   \n",
       "14  Computer engineering or electrical/electronics...  Professional degree   \n",
       "17           Computer science or software engineering    Bachelor's degree   \n",
       "18           Computer science or software engineering    Bachelor's degree   \n",
       "22  Computer engineering or electrical/electronics...    Bachelor's degree   \n",
       "\n",
       "   UnderstandComputers    EmploymentStatus    Salary  CareerSatisfaction  \\\n",
       "2             Disagree  Employed full-time  113750.0                 8.0   \n",
       "14            Disagree  Employed full-time  100000.0                 8.0   \n",
       "17      Strongly agree  Employed full-time  130000.0                 9.0   \n",
       "18            Disagree  Employed full-time   82500.0                 5.0   \n",
       "22                 NaN  Employed full-time  100764.0                 8.0   \n",
       "\n",
       "    JobSatisfaction  \n",
       "2               9.0  \n",
       "14              8.0  \n",
       "17              8.0  \n",
       "18              3.0  \n",
       "22              9.0  "
      ]
     },
     "execution_count": 43,
     "metadata": {},
     "output_type": "execute_result"
    }
   ],
   "source": [
    "vars3 = vars3[(vars3['Salary']>0) & (vars3['EmploymentStatus']== \"Employed full-time\")]\n",
    "vars3.head()"
   ]
  },
  {
   "cell_type": "code",
   "execution_count": 45,
   "id": "996a306e",
   "metadata": {},
   "outputs": [
    {
     "data": {
      "text/plain": [
       "count     12438.000000\n",
       "mean      57381.580844\n",
       "std       39871.944002\n",
       "min           0.014682\n",
       "25%       27956.989247\n",
       "50%       51297.025641\n",
       "75%       80608.870968\n",
       "max      197000.000000\n",
       "Name: Salary, dtype: float64"
      ]
     },
     "execution_count": 45,
     "metadata": {},
     "output_type": "execute_result"
    }
   ],
   "source": [
    "vars3['Salary'].describe()"
   ]
  },
  {
   "cell_type": "markdown",
   "id": "70a3de3d",
   "metadata": {},
   "source": [
    "Even limiting the sample to those who are employed full-time still results in a minimum salary of 1.4 cents. I don't have an idea of what the reason is behind such a low salary either. So rather than manipulate the dataset, I'm going to leave it as is and use the original vars dataframe. "
   ]
  },
  {
   "cell_type": "code",
   "execution_count": 39,
   "id": "a568ea04",
   "metadata": {},
   "outputs": [
    {
     "data": {
      "image/png": "[encoded data removed]",
      "text/plain": [
       "<Figure size 576x432 with 1 Axes>"
      ]
     },
     "metadata": {
      "needs_background": "light"
     },
     "output_type": "display_data"
    }
   ],
   "source": [
    "base_color=sb.color_palette('Set2')[3]\n",
    "order = vars['MajorUndergrad'].value_counts().index\n",
    "plt.figure(1,(8,6))\n",
    "sb.boxplot(data=vars, y='MajorUndergrad', x='Salary', color=base_color, fliersize=2, order = order)\n",
    "plt.ylabel('')\n",
    "plt.xlabel('Salary (USD)')\n",
    "plt.title('Salary by Undergraduate Major 2017');"
   ]
  },
  {
   "cell_type": "markdown",
   "id": "5831f532",
   "metadata": {},
   "source": [
    "While there is some variation, the average salary reported for each major falls within the \\\\$50,000 - $75,000 range. Interestingly, the highest salary range was reported for psychology, business, and computer engineering majors. Meanwhile, computer programming and IT reported the lowest average salaries."
   ]
  },
  {
   "cell_type": "code",
   "execution_count": 37,
   "id": "fca256dc",
   "metadata": {},
   "outputs": [
    {
     "data": {
      "image/png": "[encoded data removed]",
      "text/plain": [
       "<Figure size 576x360 with 1 Axes>"
      ]
     },
     "metadata": {
      "needs_background": "light"
     },
     "output_type": "display_data"
    }
   ],
   "source": [
    "base_color=sb.color_palette('Set2')[2]\n",
    "order= ['Doctoral degree','Master\\'s degree','Professional degree','Bachelor\\'s degree','Some college/university study without earning a bachelor\\'s degree','Secondary school','Primary/elementary school','I never completed any formal education','I prefer not to answer']\n",
    "plt.figure(1,(8,5))\n",
    "sb.boxplot(data=vars, y='FormalEducation', x='Salary', color=base_color, fliersize=2, order = order)\n",
    "plt.ylabel('')\n",
    "plt.xlabel('Salary (USD)')\n",
    "plt.title('Salary Compensation for Higher Education 2017');"
   ]
  },
  {
   "cell_type": "markdown",
   "id": "c92b9fc8",
   "metadata": {},
   "source": [
    "There are some interesting results. As I would expect, doctoral degrees have the highest salary range. However, master's and bachelor's degree holders reported approximately the same average salary ranges. Bachelor's degree holders had a slightly higher end range than master's. Surprisingly, though, developers with only elementary school education reported an average salary range higher than both master's and bachelor's degree holders! The higher end of the salary range for elementary school education is approximatley equal to that of a master's holder, which is lower than a bachelor's."
   ]
  },
  {
   "cell_type": "code",
   "execution_count": 47,
   "id": "646c0813",
   "metadata": {},
   "outputs": [
    {
     "data": {
      "image/png": "[encoded data removed]",
      "text/plain": [
       "<Figure size 576x432 with 1 Axes>"
      ]
     },
     "metadata": {
      "needs_background": "light"
     },
     "output_type": "display_data"
    }
   ],
   "source": [
    "base_color=sb.color_palette('Set2')[5]\n",
    "order = ['Strongly disagree', 'Disagree', 'Somewhat agree', 'Agree', 'Strongly agree']\n",
    "plt.figure(1,(8,6))\n",
    "sb.boxplot(data=vars, y='UnderstandComputers', x='Salary', color=base_color, fliersize=2, order = order)\n",
    "plt.ylabel('')\n",
    "plt.xlabel('Salary (USD)')\n",
    "plt.title('Salary by Computer Savvy 2017');"
   ]
  },
  {
   "cell_type": "markdown",
   "id": "3e93141f",
   "metadata": {},
   "source": [
    "It seems understanding computers well does make some difference in terms of salary. Those who strongly agree and agree that they don't understand computers well reported an average salary of under \\\\$50,000. Meanwhile, those who understand computers well reported over \\\\$50,000 and the top of their salary range was around \\\\$185,000 compared to \\\\$145,000 for those who don't understand computers as well. "
   ]
  },
  {
   "cell_type": "markdown",
   "id": "c4337ec9",
   "metadata": {},
   "source": [
    "##### So, to answer question 1: What are the differences in salary and satisfaction between developers with interdisciplinary academic backgrounds?"
   ]
  },
  {
   "cell_type": "markdown",
   "id": "dae72528",
   "metadata": {},
   "source": [
    "It seems that while there is some variation, it falls within a limited range for both satisfaction and salary. In terms of satisfaction, some developers that had non-STEM majors in undergrad even rated their job and career satisfaction slightly higher on average. Meanwhile, the majority of average salaries reported fell within a $25,000 range with unexpected highs in non-STEM fields and unexpected lows in computer programming and IT."
   ]
  },
  {
   "cell_type": "markdown",
   "id": "c19d88ba",
   "metadata": {},
   "source": [
    "##### Question 2: What are the differences in salary and satisfaction between developers at different education levels?"
   ]
  },
  {
   "cell_type": "markdown",
   "id": "026152a9",
   "metadata": {},
   "source": [
    "It seems its entirely possible to have a satisfying, well-paid career as a developer without an expensive degree! It certainly isn't as necessary in this field to pursue the highest education as it is in other professions. In fact, many developers with less education are just as well paid as more highly educated peers. This suggest that it is more about applied skills than the degree one earns. "
   ]
  },
  {
   "cell_type": "markdown",
   "id": "16c20b1d",
   "metadata": {},
   "source": [
    "##### Question 3: What are the differences in salary and satisfaction between developers that say they don't understand computers well?"
   ]
  },
  {
   "cell_type": "markdown",
   "id": "e599fbe4",
   "metadata": {},
   "source": [
    "While there are developers who agreed and strongly agreed that they did not understand computers well, they did tend to have slightly lower satisfaction ratings. They also had lower salary ranges than those who felt they understood computers well. So while it is not an absolute requirement to understand computers well, those who do are likely to be a little happier and successful as a developer. "
   ]
  }
 ],
 "metadata": {
  "kernelspec": {
   "display_name": "Python 3 (ipykernel)",
   "language": "python",
   "name": "python3"
  },
  "language_info": {
   "codemirror_mode": {
    "name": "ipython",
    "version": 3
   },
   "file_extension": ".py",
   "mimetype": "text/x-python",
   "name": "python",
   "nbconvert_exporter": "python",
   "pygments_lexer": "ipython3",
   "version": "3.9.12"
  }
 },
 "nbformat": 4,
 "nbformat_minor": 5
}
